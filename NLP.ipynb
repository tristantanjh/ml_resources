{
 "cells": [
  {
   "cell_type": "markdown",
   "metadata": {},
   "source": [
    "# Natural Language Processing (NLP)\n",
    "\n",
    "### Word Embeddings (Word Vectors)\n",
    "\n",
    "A mapping words from a vocabulary into a low-dimensional space, where words with similar meanings are close together. \n",
    "\n",
    "Use ConceptNet Numberbatch for their pre-trained word vectors to get used to its properties.\n",
    "\n",
    "They use h5 as the format. Need to install `h5py` if haven't.\n"
   ]
  },
  {
   "cell_type": "code",
   "execution_count": 3,
   "metadata": {},
   "outputs": [],
   "source": [
    "# Download word vectors\n",
    "from urllib.request import urlretrieve\n",
    "import os\n",
    "\n",
    "if not os.path.isfile('datasets/mini.h5'):\n",
    "    print(\"Downloading Conceptnet Numberbatch word embeddings...\")\n",
    "    conceptnet_url = 'http://conceptnet.s3.amazonaws.com/precomputed-data/2016/numberbatch/17.06/mini.h5'\n",
    "    urlretrieve(conceptnet_url, 'datasets/mini.h5')"
   ]
  },
  {
   "cell_type": "markdown",
   "metadata": {},
   "source": [
    "Open the `mini.h5` file. \n",
    "We extract from the file a list of utf-8-encoded words, as well as their 300-d vectors."
   ]
  },
  {
   "cell_type": "code",
   "execution_count": 4,
   "metadata": {},
   "outputs": [
    {
     "name": "stdout",
     "output_type": "stream",
     "text": [
      "all_words dimensions: 362891\n",
      "all_embeddings dimensions: (362891, 300)\n",
      "Random example word: /c/de/aufmachung\n"
     ]
    }
   ],
   "source": [
    "# Load the file and pull out words and embeddings\n",
    "import h5py\n",
    "\n",
    "with h5py.File('datasets/mini.h5', 'r') as f:\n",
    "    all_words = [word.decode('utf-8') for word in f['mat']['axis1'][:]]\n",
    "    all_embeddings = f['mat']['block0_values'][:]\n",
    "    \n",
    "print(\"all_words dimensions: {}\".format(len(all_words)))\n",
    "print(\"all_embeddings dimensions: {}\".format(all_embeddings.shape))\n",
    "\n",
    "print(\"Random example word: {}\".format(all_words[1337]))"
   ]
  },
  {
   "cell_type": "markdown",
   "metadata": {},
   "source": [
    "`all_words` is a list of $V$ strings (what we call our *vocabulary*), and `all_embeddings` is a $V \\times 300$ matrix. The strings are of the form `/c/language_code/word`—for example, `/c/en/cat` and `/c/es/gato`.\n",
    "\n",
    "Extract only English words:"
   ]
  },
  {
   "cell_type": "code",
   "execution_count": 5,
   "metadata": {},
   "outputs": [
    {
     "name": "stdout",
     "output_type": "stream",
     "text": [
      "Number of English words in all_words: 150875\n",
      "english_embeddings dimensions: (150875, 300)\n",
      "activated_carbon\n"
     ]
    }
   ],
   "source": [
    "# Restrict our vocabulary to just the English words\n",
    "english_words = [word[6:] for word in all_words if word.startswith('/c/en/')]\n",
    "english_word_indices = [i for i, word in enumerate(all_words) if word.startswith('/c/en/')]\n",
    "english_embeddings = all_embeddings[english_word_indices]\n",
    "\n",
    "print(\"Number of English words in all_words: {0}\".format(len(english_words)))\n",
    "print(\"english_embeddings dimensions: {0}\".format(english_embeddings.shape))\n",
    "\n",
    "print(english_words[1337])"
   ]
  },
  {
   "attachments": {
    "image.png": {
     "image/png": "[encoded data removed]"
    }
   },
   "cell_type": "markdown",
   "metadata": {},
   "source": [
    "The magnitude of a word vector can be thought of as representing frequency of use, independent of the semantics of the word. \n",
    "\n",
    "We have to *normalize* vectors, dividing each by its length. \n",
    "The result is that all of our word vectors are length 1, and as such, lie on a unit circle. \n",
    "The dot product of two vectors is proportional to the cosine of the angle between them, and provides a measure of similarity (the bigger the cosine, the smaller the angle).\n",
    "\n",
    "![image.png](attachment:image.png)"
   ]
  },
  {
   "cell_type": "code",
   "execution_count": 6,
   "metadata": {},
   "outputs": [],
   "source": [
    "import numpy as np\n",
    "\n",
    "norms = np.linalg.norm(english_embeddings, axis=1)\n",
    "normalized_embeddings = english_embeddings.astype('float32') / norms.astype('float32').reshape([-1, 1])"
   ]
  },
  {
   "cell_type": "markdown",
   "metadata": {},
   "source": [
    "We want to look up words easily, so we create a dictionary that maps us from a word to its index in the word embeddings matrix."
   ]
  },
  {
   "cell_type": "code",
   "execution_count": 7,
   "metadata": {},
   "outputs": [],
   "source": [
    "index = {word: i for i, word in enumerate(english_words)}"
   ]
  },
  {
   "cell_type": "markdown",
   "metadata": {},
   "source": [
    "Measure similarity between pairs of words by taking dot products of 2 vectors:"
   ]
  },
  {
   "cell_type": "code",
   "execution_count": 8,
   "metadata": {},
   "outputs": [
    {
     "name": "stdout",
     "output_type": "stream",
     "text": [
      "cat\tcat\t 1.0\n",
      "cat\tfeline\t 0.8199548\n",
      "cat\tdog\t 0.590724\n",
      "cat\tmoo\t 0.0039538266\n",
      "cat\tfreeze\t -0.030225186\n",
      "antonym\topposite\t 0.3941065\n",
      "antonym\tsynonym\t 0.46883982\n"
     ]
    }
   ],
   "source": [
    "def similarity_score(w1, w2):\n",
    "    score = np.dot(normalized_embeddings[index[w1], :], normalized_embeddings[index[w2], :])\n",
    "    return score\n",
    "\n",
    "# A word is as similar with itself as possible:\n",
    "print('cat\\tcat\\t', similarity_score('cat', 'cat'))\n",
    "\n",
    "# Closely related words still get high scores:\n",
    "print('cat\\tfeline\\t', similarity_score('cat', 'feline'))\n",
    "print('cat\\tdog\\t', similarity_score('cat', 'dog'))\n",
    "\n",
    "# Unrelated words, not so much\n",
    "print('cat\\tmoo\\t', similarity_score('cat', 'moo'))\n",
    "print('cat\\tfreeze\\t', similarity_score('cat', 'freeze'))\n",
    "\n",
    "# Antonyms are still considered related, sometimes more so than synonyms\n",
    "print('antonym\\topposite\\t', similarity_score('antonym', 'opposite'))\n",
    "print('antonym\\tsynonym\\t', similarity_score('antonym', 'synonym'))"
   ]
  },
  {
   "cell_type": "markdown",
   "metadata": {},
   "source": [
    "Can also find the most similar words to a given word:"
   ]
  },
  {
   "cell_type": "code",
   "execution_count": 9,
   "metadata": {},
   "outputs": [
    {
     "name": "stdout",
     "output_type": "stream",
     "text": [
      "['cat', 'humane_society', 'kitten', 'feline', 'colocolo', 'cats', 'kitty', 'maine_coon', 'housecat', 'sharp_teeth']\n",
      "['dog', 'dogs', 'wire_haired_dachshund', 'doggy_paddle', 'lhasa_apso', 'good_friend', 'puppy_dog', 'bichon_frise', 'woof_woof', 'golden_retrievers']\n",
      "['duke', 'dukes', 'duchess', 'duchesses', 'ducal', 'dukedom', 'duchy', 'voivode', 'princes', 'prince']\n"
     ]
    }
   ],
   "source": [
    "def closest_to_vector(v, n):\n",
    "    all_scores = np.dot(normalized_embeddings, v)\n",
    "    best_words = list(map(lambda i: english_words[i], reversed(np.argsort(all_scores))))\n",
    "    return best_words[:n]\n",
    "\n",
    "def most_similar(w, n):\n",
    "    return closest_to_vector(normalized_embeddings[index[w], :], n)\n",
    "\n",
    "print(most_similar('cat', 10))\n",
    "print(most_similar('dog', 10))\n",
    "print(most_similar('duke', 10))"
   ]
  },
  {
   "cell_type": "markdown",
   "metadata": {},
   "source": [
    "Can also use `closest_to_vector` to find words \"nearby\" vectors that we create ourselves. This allows us to solve analogies. \n",
    "\n",
    "For example, in order to solve the analogy \"man : brother :: woman : ?\", we can compute a new vector `brother - man + woman`: the meaning of brother, minus the meaning of man, plus the meaning of woman. We can then ask which words are closest, in the embedding space, to that new vector.\n",
    "\n",
    "<sup>* Results might not be perfect</sup>"
   ]
  },
  {
   "cell_type": "code",
   "execution_count": 10,
   "metadata": {},
   "outputs": [
    {
     "name": "stdout",
     "output_type": "stream",
     "text": [
      "['sister']\n",
      "['wife']\n",
      "['paris']\n",
      "['fish']\n",
      "['dog']\n",
      "['ice']\n"
     ]
    }
   ],
   "source": [
    "def solve_analogy(a1, b1, a2):\n",
    "    b2 = normalized_embeddings[index[b1], :] - normalized_embeddings[index[a1], :] + normalized_embeddings[index[a2], :]\n",
    "    return closest_to_vector(b2, 1)\n",
    "\n",
    "print(solve_analogy(\"man\", \"brother\", \"woman\"))\n",
    "print(solve_analogy(\"man\", \"husband\", \"woman\"))\n",
    "print(solve_analogy(\"spain\", \"madrid\", \"france\"))\n",
    "print(solve_analogy(\"bird\", \"wing\", \"fish\"))\n",
    "print(solve_analogy(\"cat\", \"kitten\", \"dog\"))\n",
    "print(solve_analogy(\"fire\", \"hot\", \"ice\"))"
   ]
  },
  {
   "cell_type": "markdown",
   "metadata": {},
   "source": [
    "### Using embeddings in models\n",
    "\n",
    "Primary use of word embeddings is that they allow us to think of words as existing in a continuous, Euclidean space; then can use machine learning with continuous numerical data (like logistic regression or neural networks) to process text.\n",
    "\n",
    "To demonstrate this perform sentiment analysis on movie reviews.\n",
    "\n",
    "Use a [Simple Word Embedding Model](http://people.ee.duke.edu/~lcarin/acl2018_swem.pdf) (SWEM, Shen et al. 2018) to do so. \n",
    "We will represent a review as the mean of the embeddings of the words in the review. \n",
    "Then we'll train a two-layer MLP (a neural network) to classify the review as positive or negative.\n",
    "\n",
    "Download the `movie-simple.txt` file. \n",
    "Each line of that file contains \n",
    "\n",
    "1. the numeral 0 (for negative) or the numeral 1 (for positive), followed by\n",
    "2. a tab (the whitespace character), and then\n",
    "3. the review itself."
   ]
  },
  {
   "cell_type": "code",
   "execution_count": 11,
   "metadata": {},
   "outputs": [
    {
     "name": "stdout",
     "output_type": "stream",
     "text": [
      "Shape of inputs: (1411, 300)\n",
      "Shape of labels: (1411, 1)\n"
     ]
    }
   ],
   "source": [
    "import string\n",
    "remove_punct=str.maketrans('','',string.punctuation)\n",
    "\n",
    "# This function converts a line of our data file into\n",
    "# a tuple (x, y), where x is 300-dimensional representation\n",
    "# of the words in a review, and y is its label.\n",
    "def convert_line_to_example(line):\n",
    "    # Pull out the first character: that's our label (0 or 1)\n",
    "    y = int(line[0])\n",
    "    \n",
    "    # Split the line into words using Python's split() function\n",
    "    words = line[2:].translate(remove_punct).lower().split()\n",
    "    \n",
    "    # Look up the embeddings of each word, ignoring words not\n",
    "    # in our pretrained vocabulary.\n",
    "    embeddings = [normalized_embeddings[index[w]] for w in words\n",
    "                  if w in index]\n",
    "    \n",
    "    # Take the mean of the embeddings\n",
    "    x = np.mean(np.vstack(embeddings), axis=0)\n",
    "    return x, y\n",
    "\n",
    "# Apply the function to each line in the file.\n",
    "xs = []\n",
    "ys = []\n",
    "with open(\"datasets/movie-simple.txt\", \"r\", encoding='utf-8', errors='ignore') as f:\n",
    "    for l in f.readlines():\n",
    "        x, y = convert_line_to_example(l)\n",
    "        xs.append(x)\n",
    "        ys.append(y)\n",
    "\n",
    "# Concatenate all examples into a numpy array\n",
    "xs = np.vstack(xs)\n",
    "ys = np.vstack(ys)\n",
    "\n",
    "print(\"Shape of inputs: {}\".format(xs.shape))\n",
    "print(\"Shape of labels: {}\".format(ys.shape))\n",
    "\n",
    "num_examples = xs.shape[0]"
   ]
  },
  {
   "cell_type": "markdown",
   "metadata": {},
   "source": [
    "Like this, input words have been converted to vectors as part of our preprocessing.\n",
    "This essentially locks our word embeddings in place throughout training, as opposed to learning the word embeddings.\n",
    "\n",
    "Learning word embeddings from scratch/fine-tuned from pre-trained initialization is often better as it is more specialized, but not needed here as dataset is small.\n",
    "\n",
    "Next, split data into test/train set, then convert to tensors:"
   ]
  },
  {
   "cell_type": "code",
   "execution_count": 12,
   "metadata": {},
   "outputs": [
    {
     "name": "stdout",
     "output_type": "stream",
     "text": [
      "First 20 labels before shuffling: [0 0 0 0 0 0 0 0 0 0 0 0 0 0 0 0 0 0 0 0]\n",
      "First 20 labels after shuffling: [1 1 0 1 0 0 0 1 1 1 0 1 0 1 0 1 1 1 1 1]\n"
     ]
    }
   ],
   "source": [
    "import torch\n",
    "\n",
    "# Shuffle the data\n",
    "print(\"First 20 labels before shuffling: {0}\".format(ys[:20, 0]))\n",
    "\n",
    "shuffle_idx = np.random.permutation(num_examples)\n",
    "xs = xs[shuffle_idx, :]\n",
    "ys = ys[shuffle_idx, :]\n",
    "\n",
    "print(\"First 20 labels after shuffling: {0}\".format(ys[:20, 0]))\n",
    "\n",
    "# Split the data into training and test sets (80-20)\n",
    "num_train = 4*num_examples // 5\n",
    "\n",
    "x_train = torch.tensor(xs[:num_train])\n",
    "y_train = torch.tensor(ys[:num_train], dtype=torch.float32)\n",
    "\n",
    "x_test = torch.tensor(xs[num_train:])\n",
    "y_test = torch.tensor(ys[num_train:], dtype=torch.float32)"
   ]
  },
  {
   "cell_type": "markdown",
   "metadata": {},
   "source": [
    "Create a TensorDataset and DataLoader (like in MNIST):"
   ]
  },
  {
   "cell_type": "code",
   "execution_count": 13,
   "metadata": {},
   "outputs": [],
   "source": [
    "reviews_train = torch.utils.data.TensorDataset(x_train, y_train)\n",
    "reviews_test = torch.utils.data.TensorDataset(x_test, y_test)\n",
    "\n",
    "train_loader = torch.utils.data.DataLoader(reviews_train, batch_size=100, shuffle=True)\n",
    "test_loader = torch.utils.data.DataLoader(reviews_test, batch_size=100, shuffle=False)"
   ]
  },
  {
   "cell_type": "markdown",
   "metadata": {},
   "source": [
    "#### Building SVEM Model:\n",
    "\n",
    "Notice that number of outputs for our MLP can be made to 2 (1 each for diff output classes positive/negative).\n",
    "However, since we only have two output classes here, we can instead produce a single output value, calling everything greater than $0$ \"postive\" and everything less than $0$ \"negative\".\n",
    "\n",
    "Then pass this output through a sigmoid operation, values are mapped to $[0,1]$, with $0.5$ being the classification threshold."
   ]
  },
  {
   "cell_type": "code",
   "execution_count": 14,
   "metadata": {},
   "outputs": [],
   "source": [
    "import torch.nn as nn\n",
    "import torch.nn.functional as F\n",
    "\n",
    "class SWEM(nn.Module):\n",
    "    def __init__(self):\n",
    "        super().__init__()\n",
    "        self.fc1 = nn.Linear(300, 64)\n",
    "        self.fc2 = nn.Linear(64, 1)\n",
    "\n",
    "    def forward(self, x):\n",
    "        x = self.fc1(x)\n",
    "        x = F.relu(x)\n",
    "        x = self.fc2(x)\n",
    "        return x"
   ]
  },
  {
   "cell_type": "markdown",
   "metadata": {},
   "source": [
    "Training the model:\n",
    "\n",
    "Notice that since we are doing binary classification we use binary cross-entropy (BCE) loss instead of cross-entropy loss, and we use \"with logits\" version for numerical stability."
   ]
  },
  {
   "cell_type": "code",
   "execution_count": 15,
   "metadata": {},
   "outputs": [
    {
     "name": "stdout",
     "output_type": "stream",
     "text": [
      "Epoch: 0 \t Train Loss: 0.6989526748657227 \t Train Acc: 0.539893627166748\n",
      "Epoch: 25 \t Train Loss: 0.14925622940063477 \t Train Acc: 0.9459219574928284\n",
      "Epoch: 50 \t Train Loss: 0.09281475841999054 \t Train Acc: 0.9707446694374084\n",
      "Epoch: 75 \t Train Loss: 0.149235337972641 \t Train Acc: 0.9769503474235535\n",
      "Epoch: 100 \t Train Loss: 0.06615883111953735 \t Train Acc: 0.9804964661598206\n",
      "Epoch: 125 \t Train Loss: 0.03409971669316292 \t Train Acc: 0.9831560254096985\n",
      "Epoch: 150 \t Train Loss: 0.08047468215227127 \t Train Acc: 0.9858155846595764\n",
      "Epoch: 175 \t Train Loss: 0.10049691051244736 \t Train Acc: 0.991134762763977\n",
      "Epoch: 200 \t Train Loss: 0.026480156928300858 \t Train Acc: 0.993794322013855\n",
      "Epoch: 225 \t Train Loss: 0.026486586779356003 \t Train Acc: 0.9955673813819885\n",
      "Test accuracy: 0.9611307382583618\n"
     ]
    }
   ],
   "source": [
    "## Training\n",
    "# Instantiate model\n",
    "model = SWEM()\n",
    "\n",
    "# Binary cross-entropy (BCE) Loss and Adam Optimizer\n",
    "criterion = nn.BCEWithLogitsLoss()\n",
    "optimizer = torch.optim.Adam(model.parameters(), lr=0.001)\n",
    "\n",
    "# Iterate through train set minibatchs \n",
    "for epoch in range(250):\n",
    "    correct = 0\n",
    "    num_examples = 0\n",
    "    for inputs, labels in train_loader:\n",
    "        # Zero out the gradients\n",
    "        optimizer.zero_grad()\n",
    "        \n",
    "        # Forward pass\n",
    "        y = model(inputs)\n",
    "        loss = criterion(y, labels)\n",
    "        \n",
    "        # Backward pass\n",
    "        loss.backward()\n",
    "        optimizer.step()\n",
    "        \n",
    "        predictions = torch.round(torch.sigmoid(y))\n",
    "        correct += torch.sum((predictions == labels).float())\n",
    "        num_examples += len(inputs)\n",
    "    \n",
    "    # Print training progress\n",
    "    if epoch % 25 == 0:\n",
    "        acc = correct/num_examples\n",
    "        print(\"Epoch: {0} \\t Train Loss: {1} \\t Train Acc: {2}\".format(epoch, loss, acc))\n",
    "\n",
    "## Testing\n",
    "correct = 0\n",
    "num_test = 0\n",
    "\n",
    "with torch.no_grad():\n",
    "    # Iterate through test set minibatchs \n",
    "    for inputs, labels in test_loader:\n",
    "        # Forward pass\n",
    "        y = model(inputs)\n",
    "        \n",
    "        predictions = torch.round(torch.sigmoid(y))\n",
    "        correct += torch.sum((predictions == labels).float())\n",
    "        num_test += len(inputs)\n",
    "    \n",
    "print('Test accuracy: {}'.format(correct/num_test))"
   ]
  },
  {
   "cell_type": "markdown",
   "metadata": {},
   "source": [
    "Testing model:"
   ]
  },
  {
   "cell_type": "code",
   "execution_count": 16,
   "metadata": {},
   "outputs": [
    {
     "name": "stdout",
     "output_type": "stream",
     "text": [
      "Sentiment of the word 'exciting': positive (sigmoid output: 0.9999997615814209)\n",
      "Sentiment of the word 'hated': negative (sigmoid output: 6.418668360615355e-23)\n",
      "Sentiment of the word 'boring': negative (sigmoid output: 1.2959721552637778e-17)\n",
      "Sentiment of the word 'loved': positive (sigmoid output: 1.0)\n",
      "Sentiment of the word 'alright': negative (sigmoid output: 0.06384996324777603)\n",
      "Sentiment of the word 'decent': negative (sigmoid output: 0.01869584619998932)\n",
      "Sentiment of the word 'terrible': negative (sigmoid output: 7.299112552507866e-19)\n",
      "Sentiment of the word 'awesome': positive (sigmoid output: 1.0)\n"
     ]
    }
   ],
   "source": [
    "import torch\n",
    "\n",
    "words_to_test = [\"exciting\", \"hated\", \"boring\", \"loved\", \"alright\", \"decent\", \"terrible\", \"awesome\"]\n",
    "\n",
    "for word in words_to_test:\n",
    "    x = torch.tensor(normalized_embeddings[index[word]].reshape(1, 300))\n",
    "    sigmoid_output = torch.sigmoid(model(x)).item() # model(x) returns a tensor, .item() gets the float value\n",
    "    \n",
    "    if sigmoid_output < 0.3:\n",
    "        sentiment = \"negative\"\n",
    "    elif sigmoid_output > 0.7:\n",
    "        sentiment = \"positive\"\n",
    "    else:\n",
    "        sentiment = \"neutral\"\n",
    "    \n",
    "    print(\"Sentiment of the word '{0}': {1} (sigmoid output: {2})\".format(word, sentiment, sigmoid_output))\n"
   ]
  },
  {
   "cell_type": "markdown",
   "metadata": {},
   "source": [
    "### Learning Word Embeddings\n",
    "\n",
    "Pre-trained word embeddings are typically trained on large corpora with unsupervised objectives, and are often non-specific.\n",
    "If we have enough data, we may prefer to learn the word embeddings, either from scratch or with fine-tuning, as making them specific to the task may improve performance.\n",
    "\n",
    "To learn word embeddings we need to make them a part of our model, rather than as part of loading the data.\n",
    "\n",
    "Use `nn.Embedding`.\n",
    "\n",
    "Like the other `nn` layers we've seen (e.g. `nn.Linear`), `nn.Embedding` must be instantiated first. \n",
    "\n",
    "There are two required arguments for instantiation: number of embeddings (i.e. the vocabulary size $V$) and the dimension of word embeddings (300, in our previous example)."
   ]
  },
  {
   "cell_type": "code",
   "execution_count": 17,
   "metadata": {},
   "outputs": [
    {
     "data": {
      "text/plain": [
       "torch.Size([5000, 300])"
      ]
     },
     "execution_count": 17,
     "metadata": {},
     "output_type": "execute_result"
    }
   ],
   "source": [
    "VOCAB_SIZE = 5000\n",
    "EMBED_DIM = 300\n",
    "\n",
    "embedding = nn.Embedding(VOCAB_SIZE, EMBED_DIM)\n",
    "\n",
    "embedding.weight.size()"
   ]
  },
  {
   "cell_type": "markdown",
   "metadata": {},
   "source": [
    "This creates a word embedding matrix that is $5000 \\times 300$, basically a 300 dimensional word embedding for each of the 5000 words, stacked on top of each other.\n",
    "Looking up a word embedding in this embedding matrix is simply selecting a specific row of this matrix, corresponding to the word.\n",
    "\n",
    "When word embeddings are learned, `nn.Embedding` look-up is often one of the first operations in a model module.\n",
    "For example, if we were to learn the word embeddings for our previous SWEM model, the model might instead look like this:\n",
    "\n",
    "* Note that the expected input to the `forward()` function is now the word tokens for the input sentence, so we would have to modify our data input pipeline as well."
   ]
  },
  {
   "cell_type": "code",
   "execution_count": 18,
   "metadata": {},
   "outputs": [
    {
     "name": "stdout",
     "output_type": "stream",
     "text": [
      "SWEMWithEmbeddings(\n",
      "  (embedding): Embedding(5000, 300)\n",
      "  (fc1): Linear(in_features=300, out_features=64, bias=True)\n",
      "  (fc2): Linear(in_features=64, out_features=1, bias=True)\n",
      ")\n"
     ]
    }
   ],
   "source": [
    "class SWEMWithEmbeddings(nn.Module):\n",
    "    def __init__(self, vocab_size, embedding_size, hidden_dim, num_outputs):\n",
    "        super().__init__()\n",
    "        self.embedding = nn.Embedding(vocab_size, embedding_size)\n",
    "        self.fc1 = nn.Linear(embedding_size, hidden_dim)\n",
    "        self.fc2 = nn.Linear(hidden_dim, num_outputs)\n",
    "\n",
    "    def forward(self, x):\n",
    "        x = self.embedding(x)\n",
    "        x = torch.mean(x, dim=0)\n",
    "        x = self.fc1(x)\n",
    "        x = F.relu(x)\n",
    "        x = self.fc2(x)\n",
    "        return x\n",
    "    \n",
    "\n",
    "# size of layers have been abstracted out to the constructor\n",
    "model = SWEMWithEmbeddings(\n",
    "    vocab_size = 5000,\n",
    "    embedding_size = 300, \n",
    "    hidden_dim = 64, \n",
    "    num_outputs = 1,\n",
    ")\n",
    "print(model)"
   ]
  },
  {
   "attachments": {
    "image.png": {
     "image/png": "[encoded data removed]"
    }
   },
   "cell_type": "markdown",
   "metadata": {},
   "source": [
    "### Recurrent Neural Networks (RNNs)\n",
    "\n",
    "Sequential data is commonly modeled with RNNs. Since natural language is viewed as a sequence of words, RNNs are commonly used for NLP.\n",
    "\n",
    "RNNs use combinations of linear and nonlinear transformations to project input into higher level representations, and these representations can be stacked with additional layers.\n",
    "\n",
    "#### Sentences as Sequences\n",
    "\n",
    "Difference between sequential models and the other models we've seen is the presence of a \"time\" dimension: words in a sentence (or paragraph, document) have an ordering to them that convey meaning:\n",
    "\n",
    "![image.png](attachment:image.png)\n",
    "\n",
    "In the example sequence above, the word \"Recurrent\" is the $t=1$ word, which we denote $w_1$; similarly, \"neural\" is $w_2$, and so on.\n",
    "\n",
    "It is advantageous to model words as embedding vectors $x_1, ..., x_T$, rather than one-hot vectors (which tokens $w_1,...w_T$ correspond to), so our first step is often to do an embedding table look-up for each input word.\n",
    "\n",
    "Assume 300-dimensional word embeddings and, for simplicity, a minibatch of size 1."
   ]
  },
  {
   "cell_type": "code",
   "execution_count": 19,
   "metadata": {},
   "outputs": [
    {
     "name": "stdout",
     "output_type": "stream",
     "text": [
      "xs shape: torch.Size([5, 1, 300])\n"
     ]
    }
   ],
   "source": [
    "mb = 1\n",
    "x_dim = 300 \n",
    "sentence = [\"recurrent\", \"neural\", \"networks\", \"are\", \"great\"]\n",
    "\n",
    "xs = []\n",
    "for word in sentence:\n",
    "    xs.append(torch.tensor(normalized_embeddings[index[word]]).view(1, x_dim))\n",
    "    \n",
    "xs = torch.stack(xs, dim=0)\n",
    "print(\"xs shape: {}\".format(xs.shape))"
   ]
  },
  {
   "cell_type": "markdown",
   "metadata": {},
   "source": [
    "Notice that we have formatted our inputs as ($\\text{words} \\times \\text{minibatch} \\times \\text{embedding dimension}$).\n",
    "This is the preferred input ordering for PyTorch RNNs.\n",
    "\n",
    "Let's say we want to process this example.\n",
    "In our previous sentiment analysis example, we just took the average embedding across time, treating the input as a \"bag-of-words.\"\n",
    "For simple problems, this can work surprisingly well, but as you might imagine, the ordering of words in a sentence is often important, and sometimes, we'd like to be able to model this temporal meaning as well.\n",
    "Enter RNNs.\n"
   ]
  },
  {
   "attachments": {
    "image-2.png": {
     "image/png": "[encoded data removed]"
    },
    "image.png": {
     "image/png": "[encoded data removed]"
    }
   },
   "cell_type": "markdown",
   "metadata": {},
   "source": [
    "#### Fully Connected Layer\n",
    "\n",
    "Notation has been changed from logistic regression/MLP:\n",
    "\n",
    "![image.png](attachment:image.png)\n",
    "\n",
    "Instead of calling the result of the fully connected layer $y$, we call it $h$, for hidden state.\n",
    "The variable $y$ is usually reserved for the final layer of the neural network; since logistic regression was a single layer, using $y$ was fine. \n",
    "\n",
    "However, if we assume there is more than one layer, it is more common to refer to the intermediate representation as $h$.\n",
    "Note that we also use $f()$ to denote a nonlinear activation function.\n",
    "In the past, we've seen $f()$ as a $\\text{ReLU}$, but this could also be a $\\sigma()$ or $\\tanh()$ nonlinearity.\n",
    "Visualized:\n",
    "\n",
    "![image-2.png](attachment:image-2.png)\n",
    "\n",
    "We project the input $x$ with a linear transformation (with $W$ and $b$), and then apply a nonlinearity to the output, giving us $h$.\n",
    "During training, our goal is to learn $W$ and $b$.\n"
   ]
  },
  {
   "attachments": {
    "image-2.png": {
     "image/png": "[encoded data removed]"
    },
    "image.png": {
     "image/png": "[encoded data removed]"
    }
   },
   "cell_type": "markdown",
   "metadata": {},
   "source": [
    "#### Basic RNN\n",
    "\n",
    "Sequential data have multiple inputs $x_1, ..., x_T$, instead of a single $x$ so\n",
    "we need to adapt our models accordingly for an RNN.\n",
    "While there are several variations, a common basic formulation for an RNN is the Elman RNN:\n",
    "\n",
    "\\begin{align}\n",
    "h_t = \\tanh((x_t W_x + b_x) + (h_{t-1} W_h + b_h))\n",
    "\\end{align}\n",
    "\n",
    "where $\\tanh()$ is the hyperbolic tangent, a nonlinear activation function.\n",
    "RNNs process words one at a time in sequence ($x_t$), producing a hidden state $h_t$ at every time step.\n",
    "The first half of the above equation should look familiar; as with the fully connected layer, we are linearly transforming each input $x_t$, and then applying a nonlinearity.\n",
    "Notice that we apply the same linear transformation ($W_x$, $b_x$) at every time step.\n",
    "The difference is that we also apply a separate linear transform ($W_h$, $b_h$) to the previous hidden state $h_{t-1}$ and add it to our projected input.\n",
    "This feedback is called a *recurrent* connection.\n",
    "\n",
    "These directed cycles in the RNN architecture gives them the ability to model temporal dynamics, making them particularly suited for modeling sequences (e.g. text).\n",
    "We can visualize an RNN layer as follows:\n",
    "\n",
    "![image.png](attachment:image.png)\n",
    "\n",
    "Showing multiple sequences:\n",
    "\n",
    "![image-2.png](attachment:image-2.png)\n",
    "\n",
    "These recurrent connections allows the model to consider previous hidden states of a sequence when calculating the hidden state for the current input.\n",
    "\n",
    "<font size=\"1\">&ast;Note: We don't actually need two separate biases $b_x$ and $b_h$, as you can combine both biases into a single learnable parameter $b$. \n",
    "However, writing it separately helps make it clear that we're performing a linear transformation on both $x_t$ and $h_{t-1}$.\n",
    "Speaking of combining variables, we can also express the above operation by concatenating $x_t$ and $h_{t-1}$ into a single vector $z_t$, and then performing a single matrix multiply $z_t W_z + b$, where $W_z$ is essentially $W_x$ and $W_h$ concatenated.\n",
    "Indeed this is how many \"official\" RNNs modules are implemented, as the reduction in the number of separate matrix multiply operations makes it computationally more effecient.\n",
    "These are implementation details though.</font>"
   ]
  },
  {
   "cell_type": "markdown",
   "metadata": {},
   "source": [
    "#### RNN in PyTorch\n",
    "\n",
    "In an RNN, we project both the input $x_t$ and the previous hidden state $h_{t-1}$ to some hidden dimension, which we choose to be 128.\n",
    "To perform these operations, we're going to define some variables we're going to learn:"
   ]
  },
  {
   "cell_type": "code",
   "execution_count": 20,
   "metadata": {},
   "outputs": [
    {
     "name": "stdout",
     "output_type": "stream",
     "text": [
      "torch.Size([300, 128]) torch.Size([128]) torch.Size([128, 128]) torch.Size([128])\n"
     ]
    }
   ],
   "source": [
    "import numpy as np\n",
    "import torch\n",
    "\n",
    "h_dim = 128 # hidden dimension size of the RNN\n",
    "\n",
    "# For projecting the input\n",
    "Wx = torch.randn(x_dim, h_dim)/np.sqrt(x_dim)\n",
    "Wx.requires_grad_()\n",
    "bx = torch.zeros(h_dim, requires_grad=True)\n",
    "\n",
    "# For projecting the previous state\n",
    "Wh = torch.randn(h_dim, h_dim)/np.sqrt(h_dim)\n",
    "Wh.requires_grad_()\n",
    "bh = torch.zeros(h_dim, requires_grad=True)\n",
    "\n",
    "print(Wx.shape, bx.shape, Wh.shape, bh.shape)"
   ]
  },
  {
   "cell_type": "markdown",
   "metadata": {},
   "source": [
    "For convenience, we define a function for one time step of the RNN.\n",
    "This function take the current input $x_t$ and previous hidden state $h_{t-1}$, performs the linear transformations $x W_x + b_x$ and $h W_h + b_h$, and then a hyperbolic tangent nonlinearity."
   ]
  },
  {
   "cell_type": "code",
   "execution_count": 21,
   "metadata": {},
   "outputs": [],
   "source": [
    "def RNN_step(x, h):\n",
    "    h_next = torch.tanh((torch.matmul(x, Wx) + bx) + (torch.matmul(h, Wh) + bh))\n",
    "\n",
    "    return h_next"
   ]
  },
  {
   "cell_type": "markdown",
   "metadata": {},
   "source": [
    "Each step of our RNN is going to require feeding in an input (i.e. the word representation) and the previous hidden state (the summary of preceding sequence). Note that at the beginning of a sentence, we don't have a previous hidden state, so we initialize it to some value, for example all zeros:"
   ]
  },
  {
   "cell_type": "code",
   "execution_count": 22,
   "metadata": {},
   "outputs": [],
   "source": [
    "# Word embedding for first word\n",
    "x1 = xs[0, :, :]\n",
    "\n",
    "# Initialize hidden state to 0\n",
    "h0 = torch.zeros([mb, h_dim])"
   ]
  },
  {
   "cell_type": "markdown",
   "metadata": {},
   "source": [
    "To take one time step of the RNN, we call the function we wrote, passing in $x_1$ and $h_0$:"
   ]
  },
  {
   "cell_type": "code",
   "execution_count": 23,
   "metadata": {},
   "outputs": [
    {
     "name": "stdout",
     "output_type": "stream",
     "text": [
      "Hidden state h1 dimensions: torch.Size([1, 128])\n"
     ]
    }
   ],
   "source": [
    "# Forward pass of one RNN step for time step t=1\n",
    "h1 = RNN_step(x1, h0)\n",
    "\n",
    "print(\"Hidden state h1 dimensions: {0}\".format(h1.shape))"
   ]
  },
  {
   "cell_type": "markdown",
   "metadata": {},
   "source": [
    "Then call the `RNN_step` function again to get the next time step output from our RNN."
   ]
  },
  {
   "cell_type": "code",
   "execution_count": 24,
   "metadata": {},
   "outputs": [
    {
     "name": "stdout",
     "output_type": "stream",
     "text": [
      "Hidden state h2 dimensions: torch.Size([1, 128])\n"
     ]
    }
   ],
   "source": [
    "# Word embedding for second word\n",
    "x2 = xs[1, :, :]\n",
    "\n",
    "# Forward pass of one RNN step for time step t=2\n",
    "h2 = RNN_step(x2, h1)\n",
    "\n",
    "print(\"Hidden state h2 dimensions: {0}\".format(h2.shape))"
   ]
  },
  {
   "cell_type": "markdown",
   "metadata": {},
   "source": [
    "We can continue unrolling the RNN as far as we need to. \n",
    "For each step, we feed in the current input ($x_t$) and previous hidden state ($h_{t-1}$) to get a new output.\n",
    "\n",
    "However instead of doing it manually use `torch.nn`:"
   ]
  },
  {
   "cell_type": "code",
   "execution_count": 25,
   "metadata": {},
   "outputs": [
    {
     "name": "stdout",
     "output_type": "stream",
     "text": [
      "RNN parameter shapes: [torch.Size([128, 300]), torch.Size([128, 128]), torch.Size([128]), torch.Size([128])]\n",
      "Hidden states shape: torch.Size([5, 1, 128])\n",
      "Final hidden state shape: torch.Size([1, 1, 128])\n"
     ]
    }
   ],
   "source": [
    "import torch.nn\n",
    "\n",
    "rnn = nn.RNN(x_dim, h_dim)\n",
    "print(\"RNN parameter shapes: {}\".format([p.shape for p in rnn.parameters()]))\n",
    "\n",
    "hs, h_T = rnn(xs) # pass entire input sequence xs, returns all hidden states and the final hidden state\n",
    "\n",
    "print(\"Hidden states shape: {}\".format(hs.shape))\n",
    "print(\"Final hidden state shape: {}\".format(h_T.shape))"
   ]
  },
  {
   "cell_type": "markdown",
   "metadata": {},
   "source": [
    "What do we do with these hidden states?\n",
    "It depends on the model and task.\n",
    "Just like multilayer perceptrons and convolutional neural networks, RNNs can be stacked in multiple layers as well.\n",
    "In this case, the outputs $h_1, ..., h_T$ are the sequential inputs to the next layer.\n",
    "If the RNN layer is the final layer, $h_T$ or the mean/max of $h_1, ..., h_T$ can be used as a summary encoding of the data sequence. \n",
    "What is being predicted can also have an impact on what the RNN outputs are ultimately used for."
   ]
  },
  {
   "cell_type": "markdown",
   "metadata": {},
   "source": [
    "#### LSTMs and Gated RNNs\n",
    "\n",
    "RNNs above can successfully model simple sequential data, but they tend to struggle with longer sequences, with [vanishing gradients](https://en.wikipedia.org/wiki/Vanishing_gradient_problem) an especially big problem.\n",
    "\n",
    "Long Short-Term Memory (LSTM) and the Gated Recurrent Unit (GRU) have seen wide use recently in deep learning.\n",
    "[Summary](https://colah.github.io/posts/2015-08-Understanding-LSTMs/)\n",
    "Note that \"RNN\" as a name is somewhat overloaded: it can refer to both the basic recurrent model we went over previously, or recurrent models in general (including LSTMs and GRUs).\n",
    "\n",
    "LSTMs and GRUs layers can be created the same way as basic RNN layers."
   ]
  },
  {
   "cell_type": "code",
   "execution_count": 26,
   "metadata": {},
   "outputs": [
    {
     "name": "stdout",
     "output_type": "stream",
     "text": [
      "LSTM parameters: [torch.Size([512, 300]), torch.Size([512, 128]), torch.Size([512]), torch.Size([512])]\n",
      "GRU parameters: [torch.Size([384, 300]), torch.Size([384, 128]), torch.Size([384]), torch.Size([384])]\n"
     ]
    }
   ],
   "source": [
    "lstm = nn.LSTM(x_dim, h_dim)\n",
    "print(\"LSTM parameters: {}\".format([p.shape for p in lstm.parameters()]))\n",
    "\n",
    "gru = nn.GRU(x_dim, h_dim)\n",
    "print(\"GRU parameters: {}\".format([p.shape for p in gru.parameters()]))"
   ]
  },
  {
   "cell_type": "markdown",
   "metadata": {},
   "source": [
    "#### Other resources\n",
    "\n",
    "[Fantastic introduction to LSTMs and GRUs](https://colah.github.io/posts/2015-08-Understanding-LSTMs/)\n",
    "\n",
    "[Popular blog post on the effectiveness of RNNs](http://karpathy.github.io/2015/05/21/rnn-effectiveness/)"
   ]
  },
  {
   "cell_type": "markdown",
   "metadata": {},
   "source": [
    "### Text Classification\n",
    "\n",
    "The AG News dataset contains text from 127600 online news articles, from 4 different categories: World, Sports, Business, and Science/Technology.\n",
    "AG News is typically used for topic classification: given an unseen news article, we're interested in predicting the topic.\n",
    "\n",
    "We will learn the word embeddings."
   ]
  },
  {
   "cell_type": "markdown",
   "metadata": {},
   "source": [
    "#### Loading Dataset\n",
    "\n",
    "1. Load in dataset\n",
    "2. Tokenize text\n",
    "3. Add padding/truncation (as sentence length is not equal) \n",
    "    - Use custom `collator(batch)` and `pad_sequence()` \n",
    "4. Create `DataLoader` "
   ]
  },
  {
   "cell_type": "code",
   "execution_count": 1,
   "metadata": {},
   "outputs": [
    {
     "name": "stderr",
     "output_type": "stream",
     "text": [
      "C:\\Users\\tristan\\AppData\\Roaming\\Python\\Python311\\site-packages\\torchtext\\datasets\\__init__.py:4: UserWarning: \n",
      "/!\\ IMPORTANT WARNING ABOUT TORCHTEXT STATUS /!\\ \n",
      "Torchtext is deprecated and the last released version will be 0.18 (this one). You can silence this warning by calling the following at the beginnign of your scripts: `import torchtext; torchtext.disable_torchtext_deprecation_warning()`\n",
      "  warnings.warn(torchtext._TORCHTEXT_DEPRECATION_MSG)\n",
      "C:\\Users\\tristan\\AppData\\Roaming\\Python\\Python311\\site-packages\\torchtext\\data\\__init__.py:4: UserWarning: \n",
      "/!\\ IMPORTANT WARNING ABOUT TORCHTEXT STATUS /!\\ \n",
      "Torchtext is deprecated and the last released version will be 0.18 (this one). You can silence this warning by calling the following at the beginnign of your scripts: `import torchtext; torchtext.disable_torchtext_deprecation_warning()`\n",
      "  warnings.warn(torchtext._TORCHTEXT_DEPRECATION_MSG)\n",
      "C:\\Users\\tristan\\AppData\\Roaming\\Python\\Python311\\site-packages\\torchtext\\vocab\\__init__.py:4: UserWarning: \n",
      "/!\\ IMPORTANT WARNING ABOUT TORCHTEXT STATUS /!\\ \n",
      "Torchtext is deprecated and the last released version will be 0.18 (this one). You can silence this warning by calling the following at the beginnign of your scripts: `import torchtext; torchtext.disable_torchtext_deprecation_warning()`\n",
      "  warnings.warn(torchtext._TORCHTEXT_DEPRECATION_MSG)\n",
      "C:\\Users\\tristan\\AppData\\Roaming\\Python\\Python311\\site-packages\\torchtext\\utils.py:4: UserWarning: \n",
      "/!\\ IMPORTANT WARNING ABOUT TORCHTEXT STATUS /!\\ \n",
      "Torchtext is deprecated and the last released version will be 0.18 (this one). You can silence this warning by calling the following at the beginnign of your scripts: `import torchtext; torchtext.disable_torchtext_deprecation_warning()`\n",
      "  warnings.warn(torchtext._TORCHTEXT_DEPRECATION_MSG)\n"
     ]
    },
    {
     "name": "stdout",
     "output_type": "stream",
     "text": [
      "First sequence without padding: (2, [431, 427, 1, 1605, 14836, 113, 66, 2, 848, 13, 27, 14, 27, 15, 50718, 3, 431, 374, 16, 9, 67497, 6, 52251, 3, 42, 4009, 782, 325, 1], 29)\n",
      "Length of the first text example: 29\n",
      "Length of the second text example: 42\n",
      "First sequence padded: tensor([  431,   427,     1,  1605, 14836,   113,    66,     2,   848,    13,\n",
      "           27,    14,    27,    15, 50718,     3,   431,   374,    16,     9,\n",
      "        67497,     6, 52251,     3,    42,  4009,   782,   325,     1,     0,\n",
      "            0,     0,     0,     0,     0,     0,     0,     0,     0,     0,\n",
      "            0,     0])\n",
      "First sequence length: 42\n",
      "Second sequence padded: tensor([15873,  1072,   854,  1310,  4249,    13,    27,    14,    27,    15,\n",
      "          929,   797,   320, 15873,    98,     3, 27655,    28,     5,  4459,\n",
      "           11,   564, 52782,     8, 80609,  2125,     7,     2,   525,   241,\n",
      "            3,    28,  3890, 82806,  6574,    10,   206,   359,     6,     2,\n",
      "          126,     1])\n",
      "Second sequence length: 42\n"
     ]
    }
   ],
   "source": [
    "import torch\n",
    "import pandas as pd\n",
    "import numpy as np\n",
    "import torchtext\n",
    "from torchtext.datasets import AG_NEWS\n",
    "from torchtext.data.utils import get_tokenizer\n",
    "from torchtext.vocab import build_vocab_from_iterator\n",
    "from torch.utils.data import DataLoader, SubsetRandomSampler, Dataset\n",
    "from torch.nn.utils.rnn import pad_sequence\n",
    "\n",
    "tokenizer = get_tokenizer(\"basic_english\")\n",
    "\n",
    "train_csv_path = './datasets/AG_NEWS/train.csv'\n",
    "test_csv_path = './datasets/AG_NEWS/test.csv'\n",
    "\n",
    "train_df = pd.read_csv(train_csv_path)\n",
    "test_df = pd.read_csv(test_csv_path)\n",
    "\n",
    "# Combine 'Title' and 'Description' columns\n",
    "train_df['Combined'] = train_df['Title'] + ' ' + train_df['Description']\n",
    "test_df['Combined'] = test_df['Title'] + ' ' + test_df['Description']\n",
    "\n",
    "# Tokenize the text data\n",
    "def yield_tokens(data_iter):\n",
    "    for text in data_iter:\n",
    "        yield tokenizer(text)\n",
    "\n",
    "vocab = build_vocab_from_iterator(yield_tokens(train_df['Combined']), specials=[\"<unk>\"])\n",
    "vocab.set_default_index(vocab[\"<unk>\"])\n",
    "\n",
    "def text_pipeline(x):\n",
    "    return vocab(tokenizer(x))\n",
    "\n",
    "def label_pipeline(x):\n",
    "    return int(x) - 1\n",
    "\n",
    "# Define the dataset class\n",
    "class AGNewsDataset(Dataset):\n",
    "    def __init__(self, data_df, text_pipeline, label_pipeline):\n",
    "        self.data_df = data_df\n",
    "        self.text_pipeline = text_pipeline\n",
    "        self.label_pipeline = label_pipeline\n",
    "\n",
    "    def __len__(self):\n",
    "        return len(self.data_df)\n",
    "\n",
    "    def __getitem__(self, idx):\n",
    "        label = self.label_pipeline(self.data_df.iloc[idx, 0])  # Assuming label is in the first column\n",
    "        text = self.text_pipeline(self.data_df.iloc[idx, 1] + ' ' + self.data_df.iloc[idx, 2])   # Combining second and third columns\n",
    "        length = len(text) # Store the length of the sequence\n",
    "        return label, text, length\n",
    "\n",
    "# Add collator function for padding\n",
    "def collator(batch):\n",
    "    labels = torch.tensor([example[0] for example in batch], dtype=torch.int64)\n",
    "    sentences = [torch.tensor(example[1], dtype=torch.int64) for example in batch]\n",
    "    lengths = [example[2] for example in batch]  # Extract lengths from the batch\n",
    "    data = pad_sequence(sentences, batch_first=True, padding_value=0)\n",
    "    return data, labels, torch.tensor(lengths, dtype=torch.int64)  # Return lengths as tensor\n",
    "\n",
    "train_dataset = AGNewsDataset(train_df, text_pipeline, label_pipeline)\n",
    "test_dataset = AGNewsDataset(test_df, text_pipeline, label_pipeline)\n",
    "\n",
    "# Create training and validation sets\n",
    "num_train = len(train_dataset)\n",
    "indices = list(range(num_train))\n",
    "np.random.shuffle(indices)\n",
    "split = int(0.8 * num_train)  # 80% for training, 20% for validation\n",
    "train_idx, val_idx = indices[:split], indices[split:]\n",
    "\n",
    "train_sampler = SubsetRandomSampler(train_idx)\n",
    "val_sampler = SubsetRandomSampler(val_idx)\n",
    "\n",
    "# Create DataLoaders\n",
    "BATCH_SIZE = 128\n",
    "train_loader = DataLoader(train_dataset, batch_size=BATCH_SIZE, sampler=train_sampler, collate_fn=collator)\n",
    "val_loader = DataLoader(train_dataset, batch_size=BATCH_SIZE, sampler=val_sampler, collate_fn=collator)\n",
    "test_loader = DataLoader(test_dataset, batch_size=BATCH_SIZE, shuffle=False, collate_fn=collator)\n",
    "\n",
    "# train_dataloader = DataLoader(train_dataset, batch_size=128, shuffle=True, collate_fn=collator)\n",
    "# test_dataloader = DataLoader(test_dataset, batch_size=128, shuffle=False, collate_fn=collator)\n",
    "\n",
    "print(\"First sequence without padding: {}\".format(train_dataset[0]))\n",
    "\n",
    "print(\"Length of the first text example: {}\".format(len(train_dataset[0][1])))\n",
    "print(\"Length of the second text example: {}\".format(len(train_dataset[1][1])))\n",
    "\n",
    "# Padding demonstration\n",
    "padded_exs = pad_sequence([torch.tensor(train_dataset[0][1], dtype=torch.int64), torch.tensor(train_dataset[1][1], dtype=torch.int64)], batch_first=True)\n",
    "print(\"First sequence padded: {}\".format(padded_exs[0]))\n",
    "print(\"First sequence length: {}\".format(len(padded_exs[0])))\n",
    "print(\"Second sequence padded: {}\".format(padded_exs[1]))\n",
    "print(\"Second sequence length: {}\".format(len(padded_exs[1])))\n",
    "\n",
    "\n"
   ]
  },
  {
   "cell_type": "markdown",
   "metadata": {},
   "source": [
    "#### SWEM \n",
    "\n",
    "This time we learn the embeddings from scratch.\n",
    "\n",
    "Defining more hyperparameters:"
   ]
  },
  {
   "cell_type": "code",
   "execution_count": 8,
   "metadata": {},
   "outputs": [
    {
     "name": "stdout",
     "output_type": "stream",
     "text": [
      "Vocabulary size: 95804\n",
      "Number of labels: 4\n"
     ]
    }
   ],
   "source": [
    "VOCAB_SIZE = len(vocab)\n",
    "print(\"Vocabulary size: {}\".format(VOCAB_SIZE))\n",
    "EMBED_DIM = 100\n",
    "HIDDEN_DIM = 64\n",
    "num_labels = len(train_df.iloc[:, 0].unique())\n",
    "print(\"Number of labels: {}\".format(num_labels))\n",
    "NUM_OUTPUTS = num_labels\n",
    "NUM_EPOCHS = 10\n",
    "PATIENCE = 2"
   ]
  },
  {
   "cell_type": "markdown",
   "metadata": {},
   "source": [
    "Organize our model as a `nn.Module`.\n",
    "Instead of assuming the input is already an embedding, we're going to make learning the embedding as part of our model.\n",
    "Do this by using `nn.Embedding` to perform an embedding look-up at the beginning of our forward pass.\n",
    "Once we've done the look up, we'll have a minibatch of embedded sequences of dimension $L \\times$ `BATCH_SIZE` $\\times$ `EMBED_DIM`.\n",
    "For SWEM, remember, we take the mean across the length dimension to get an average embedding for the sequence.\n",
    "\n",
    "<font size=\"1\"> \n",
    "&ast;Note: Technically we should only take the mean across the embeddings at the positions corresponding to \"real\" words in our input, and not for the zero paddings we artificially added.\n",
    "This can be done by generating a binary mask while doing the padding to track the \"real\" words in the input.\n",
    "Ultimately though, this refinement doesn't have much impact on the results for this particular task, so we omit it for simplicity.\n",
    "</font>"
   ]
  },
  {
   "cell_type": "code",
   "execution_count": null,
   "metadata": {},
   "outputs": [],
   "source": [
    "import torch.nn as nn\n",
    "import torch.nn.functional as F\n",
    "from tqdm import tqdm\n",
    "\n",
    "class SWEM(nn.Module):\n",
    "    def __init__(self, vocab_size, embedding_size, hidden_dim, num_outputs):\n",
    "        super().__init__()\n",
    "        self.embedding = nn.Embedding(vocab_size, embedding_size)\n",
    "        \n",
    "        self.fc1 = nn.Linear(embedding_size, hidden_dim)\n",
    "        self.fc2 = nn.Linear(hidden_dim, num_outputs)\n",
    "\n",
    "    def forward(self, x):\n",
    "        embed = self.embedding(x) # (batch_size, seq_len, embedding_dim)\n",
    "        embed_mean = torch.mean(embed, dim=0) # takes mean over the sequence length\n",
    "        \n",
    "        h = self.fc1(embed_mean)\n",
    "        h = F.relu(h)\n",
    "        h = self.fc2(h)\n",
    "        return h\n",
    "    \n",
    "\n",
    "## Training\n",
    "# Instantiate model\n",
    "model = SWEM(\n",
    "    vocab_size = VOCAB_SIZE,\n",
    "    embedding_size = EMBED_DIM, \n",
    "    hidden_dim = HIDDEN_DIM, \n",
    "    num_outputs = NUM_OUTPUTS,\n",
    ")\n",
    "criterion = nn.CrossEntropyLoss()\n",
    "optimizer = torch.optim.Adam(model.parameters(), lr=0.001)\n",
    "scheduler = torch.optim.lr_scheduler.StepLR(optimizer, step_size=5, gamma=0.1)\n",
    "\n",
    "# Training with validation and early stopping\n",
    "best_val_loss = float('inf')\n",
    "early_stop_counter = 0\n",
    "\n",
    "for epoch in range(NUM_EPOCHS):\n",
    "    model.train()\n",
    "    train_loss = 0.0\n",
    "    for data, labels, lengths in tqdm(train_loader, desc=f\"Epoch {epoch+1}/{NUM_EPOCHS}\"):\n",
    "        optimizer.zero_grad()\n",
    "        output = model(data)\n",
    "        loss = criterion(output, labels)\n",
    "        loss.backward()\n",
    "        optimizer.step()\n",
    "        train_loss += loss.item()\n",
    "\n",
    "    scheduler.step()\n",
    "    avg_train_loss = train_loss / len(train_loader)\n",
    "    print(f'Epoch {epoch+1}/{NUM_EPOCHS}, Training Loss: {avg_train_loss:.4f}')\n",
    "\n",
    "    # Validation\n",
    "    model.eval()\n",
    "    val_loss = 0.0\n",
    "    correct = 0\n",
    "    total = 0\n",
    "    with torch.no_grad():\n",
    "        for data, labels in val_loader:\n",
    "            output = model(data)\n",
    "            loss = criterion(output, labels)\n",
    "            val_loss += loss.item()\n",
    "            predictions = torch.argmax(output, dim=1)\n",
    "            correct += (predictions == labels).sum().item()\n",
    "            total += labels.size(0)\n",
    "\n",
    "    avg_val_loss = val_loss / len(val_loader)\n",
    "    val_accuracy = correct / total\n",
    "    print(f'Epoch {epoch+1}/{NUM_EPOCHS}, Validation Loss: {avg_val_loss:.4f}, Validation Accuracy: {val_accuracy:.4f}')\n",
    "\n",
    "    # Early stopping\n",
    "    if avg_val_loss < best_val_loss:\n",
    "        best_val_loss = avg_val_loss\n",
    "        early_stop_counter = 0\n",
    "    else:\n",
    "        early_stop_counter += 1\n",
    "\n",
    "    if early_stop_counter >= PATIENCE:\n",
    "        print(f\"Early stopping at epoch {epoch+1}\")\n",
    "        break\n",
    "\n",
    "# Testing\n",
    "model.eval()\n",
    "correct = 0\n",
    "total = 0\n",
    "with torch.no_grad():\n",
    "    for data, labels, lengths in tqdm(test_loader, desc=\"Testing\"):\n",
    "        output = model(data)\n",
    "        predictions = torch.argmax(output, dim=1)\n",
    "        correct += (predictions == labels).sum().item()\n",
    "        total += labels.size(0)\n",
    "\n",
    "test_accuracy = correct / total\n",
    "print(f'Test accuracy: {test_accuracy:.4f}')\n"
   ]
  },
  {
   "cell_type": "code",
   "execution_count": 70,
   "metadata": {},
   "outputs": [
    {
     "name": "stdout",
     "output_type": "stream",
     "text": [
      "Predicted class: 2\n"
     ]
    }
   ],
   "source": [
    "## Testing on single example\n",
    "\n",
    "def prepare_text(text, vocab, tokenizer):\n",
    "    tokens = tokenizer(text)\n",
    "    token_indices = [vocab[token] for token in tokens]\n",
    "    return torch.tensor(token_indices, dtype=torch.long).unsqueeze(1)  # Add batch dimension\n",
    "\n",
    "def classify_text(model, text, vocab, tokenizer):\n",
    "    text_tensor = prepare_text(text, vocab, tokenizer)\n",
    "    with torch.no_grad():\n",
    "        output = model(text_tensor)\n",
    "        predicted_class = torch.argmax(output, dim=1).item()\n",
    "    return predicted_class\n",
    "\n",
    "# Example usage:\n",
    "custom_text = \"The Boston Celtics are winners of the 2024 NBA Championship!\"\n",
    "predicted_class = classify_text(model, custom_text, vocab, tokenizer)\n",
    "print(f\"Predicted class: {predicted_class + 1}\")"
   ]
  },
  {
   "cell_type": "markdown",
   "metadata": {},
   "source": [
    "### RNN"
   ]
  },
  {
   "cell_type": "code",
   "execution_count": null,
   "metadata": {},
   "outputs": [],
   "source": [
    "import torch.nn as nn\n",
    "import torch.nn.functional as F\n",
    "from tqdm import tqdm\n",
    "from torch.nn.utils.rnn import pad_sequence, pack_padded_sequence, pad_packed_sequence\n",
    "\n",
    "# Define the RNN-based model\n",
    "class RNNClassifier(nn.Module):\n",
    "    def __init__(self, vocab_size, embedding_size, hidden_dim, num_outputs):\n",
    "        super(RNNClassifier, self).__init__()\n",
    "        self.embedding = nn.Embedding(vocab_size, embedding_size)\n",
    "        self.rnn = nn.RNN(embedding_size, hidden_dim, batch_first=True)\n",
    "        self.fc = nn.Linear(hidden_dim, num_outputs)\n",
    "\n",
    "    def forward(self, x, lengths):\n",
    "        embed = self.embedding(x) # embedding layer (batch_size, seq_len, embedding_size)\n",
    "        packed_embed = pack_padded_sequence(embed, lengths.cpu(), batch_first=True, enforce_sorted=False)  # pack sequence, ensures RNN only processes non-padded elements\n",
    "        packed_output, ht = self.rnn(packed_embed) # rnn only return ht = hidden states\n",
    "        output, _ = pad_packed_sequence(packed_output, batch_first=True) # unpack sequence, adds back padding\n",
    "        h_t = ht[-1] # get the last hidden state\n",
    "        logits = self.fc(h_t) # fully connected layer\n",
    "        return logits\n",
    "\n",
    "## Training\n",
    "# Instantiate model\n",
    "model = RNNClassifier(\n",
    "    vocab_size = VOCAB_SIZE,\n",
    "    embedding_size = EMBED_DIM, \n",
    "    hidden_dim = HIDDEN_DIM, \n",
    "    num_outputs = NUM_OUTPUTS,\n",
    ")\n",
    "criterion = nn.CrossEntropyLoss()\n",
    "optimizer = torch.optim.Adam(model.parameters(), lr=0.001)\n",
    "scheduler = torch.optim.lr_scheduler.StepLR(optimizer, step_size=5, gamma=0.1)\n",
    "\n",
    "# Training with validation and early stopping\n",
    "best_val_loss = float('inf')\n",
    "early_stop_counter = 0\n",
    "\n",
    "for epoch in range(NUM_EPOCHS):\n",
    "    model.train()\n",
    "    train_loss = 0.0\n",
    "    for data, labels, lengths in tqdm(train_loader, desc=f\"Epoch {epoch+1}/{NUM_EPOCHS}\"):\n",
    "        optimizer.zero_grad()\n",
    "        output = model(data, lengths)\n",
    "        loss = criterion(output, labels)\n",
    "        loss.backward()\n",
    "        optimizer.step()\n",
    "        train_loss += loss.item()\n",
    "\n",
    "    scheduler.step()\n",
    "    avg_train_loss = train_loss / len(train_loader)\n",
    "    print(f'Epoch {epoch+1}/{NUM_EPOCHS}, Training Loss: {avg_train_loss:.4f}')\n",
    "\n",
    "    # Validation\n",
    "    model.eval()\n",
    "    val_loss = 0.0\n",
    "    correct = 0\n",
    "    total = 0\n",
    "    with torch.no_grad():\n",
    "        for data, labels, lengths in val_loader:\n",
    "            output = model(data, lengths)\n",
    "            loss = criterion(output, labels)\n",
    "            val_loss += loss.item()\n",
    "            predictions = torch.argmax(output, dim=1)\n",
    "            correct += (predictions == labels).sum().item()\n",
    "            total += labels.size(0)\n",
    "\n",
    "    avg_val_loss = val_loss / len(val_loader)\n",
    "    val_accuracy = correct / total\n",
    "    print(f'Epoch {epoch+1}/{NUM_EPOCHS}, Validation Loss: {avg_val_loss:.4f}, Validation Accuracy: {val_accuracy:.4f}')\n",
    "\n",
    "    # Early stopping\n",
    "    if avg_val_loss < best_val_loss:\n",
    "        best_val_loss = avg_val_loss\n",
    "        early_stop_counter = 0\n",
    "    else:\n",
    "        early_stop_counter += 1\n",
    "\n",
    "    if early_stop_counter >= PATIENCE:\n",
    "        print(f\"Early stopping at epoch {epoch+1}\")\n",
    "        break\n",
    "    \n",
    "# Testing\n",
    "model.eval()\n",
    "correct = 0\n",
    "total = 0\n",
    "with torch.no_grad():\n",
    "    for data, labels, lengths in tqdm(test_loader, desc=\"Testing\"):\n",
    "        output = model(data, lengths)\n",
    "        predictions = torch.argmax(output, dim=1)\n",
    "        correct += (predictions == labels).sum().item()\n",
    "        total += labels.size(0)\n",
    "\n",
    "test_accuracy = correct / total\n",
    "print(f'Test accuracy: {test_accuracy:.4f}')\n"
   ]
  },
  {
   "cell_type": "markdown",
   "metadata": {},
   "source": [
    "### LSTM"
   ]
  },
  {
   "cell_type": "code",
   "execution_count": 10,
   "metadata": {},
   "outputs": [
    {
     "name": "stderr",
     "output_type": "stream",
     "text": [
      "Epoch 1/10: 100%|██████████| 750/750 [03:43<00:00,  3.36it/s]\n"
     ]
    },
    {
     "name": "stdout",
     "output_type": "stream",
     "text": [
      "Epoch 1/10, Training Loss: 0.7047\n",
      "Epoch 1/10, Validation Loss: 0.4179, Validation Accuracy: 0.8587\n"
     ]
    },
    {
     "name": "stderr",
     "output_type": "stream",
     "text": [
      "Epoch 2/10: 100%|██████████| 750/750 [04:36<00:00,  2.71it/s]\n"
     ]
    },
    {
     "name": "stdout",
     "output_type": "stream",
     "text": [
      "Epoch 2/10, Training Loss: 0.3223\n",
      "Epoch 2/10, Validation Loss: 0.3252, Validation Accuracy: 0.8920\n"
     ]
    },
    {
     "name": "stderr",
     "output_type": "stream",
     "text": [
      "Epoch 3/10: 100%|██████████| 750/750 [03:41<00:00,  3.38it/s]\n"
     ]
    },
    {
     "name": "stdout",
     "output_type": "stream",
     "text": [
      "Epoch 3/10, Training Loss: 0.2366\n",
      "Epoch 3/10, Validation Loss: 0.3132, Validation Accuracy: 0.8977\n"
     ]
    },
    {
     "name": "stderr",
     "output_type": "stream",
     "text": [
      "Epoch 4/10: 100%|██████████| 750/750 [03:22<00:00,  3.70it/s]\n"
     ]
    },
    {
     "name": "stdout",
     "output_type": "stream",
     "text": [
      "Epoch 4/10, Training Loss: 0.1844\n",
      "Epoch 4/10, Validation Loss: 0.3134, Validation Accuracy: 0.8978\n"
     ]
    },
    {
     "name": "stderr",
     "output_type": "stream",
     "text": [
      "Epoch 5/10: 100%|██████████| 750/750 [03:14<00:00,  3.86it/s]\n"
     ]
    },
    {
     "name": "stdout",
     "output_type": "stream",
     "text": [
      "Epoch 5/10, Training Loss: 0.1454\n",
      "Epoch 5/10, Validation Loss: 0.3020, Validation Accuracy: 0.9041\n"
     ]
    },
    {
     "name": "stderr",
     "output_type": "stream",
     "text": [
      "Epoch 6/10: 100%|██████████| 750/750 [03:18<00:00,  3.78it/s]\n"
     ]
    },
    {
     "name": "stdout",
     "output_type": "stream",
     "text": [
      "Epoch 6/10, Training Loss: 0.1012\n",
      "Epoch 6/10, Validation Loss: 0.3122, Validation Accuracy: 0.9066\n"
     ]
    },
    {
     "name": "stderr",
     "output_type": "stream",
     "text": [
      "Epoch 7/10: 100%|██████████| 750/750 [03:19<00:00,  3.76it/s]\n"
     ]
    },
    {
     "name": "stdout",
     "output_type": "stream",
     "text": [
      "Epoch 7/10, Training Loss: 0.0928\n",
      "Epoch 7/10, Validation Loss: 0.3209, Validation Accuracy: 0.9060\n",
      "Early stopping at epoch 7\n"
     ]
    },
    {
     "name": "stderr",
     "output_type": "stream",
     "text": [
      "Testing: 100%|██████████| 60/60 [00:02<00:00, 22.84it/s]"
     ]
    },
    {
     "name": "stdout",
     "output_type": "stream",
     "text": [
      "Test accuracy: 0.8987\n"
     ]
    },
    {
     "name": "stderr",
     "output_type": "stream",
     "text": [
      "\n"
     ]
    }
   ],
   "source": [
    "import torch.nn as nn\n",
    "import torch.nn.functional as F\n",
    "from tqdm import tqdm\n",
    "from torch.nn.utils.rnn import pad_sequence, pack_padded_sequence, pad_packed_sequence\n",
    "\n",
    "# Define the LSTM-based model\n",
    "class LSTMClassifier(nn.Module):\n",
    "    def __init__(self, vocab_size, embedding_size, hidden_dim, num_outputs):\n",
    "        super(LSTMClassifier, self).__init__()\n",
    "        self.embedding = nn.Embedding(vocab_size, embedding_size)\n",
    "        self.lstm = nn.LSTM(embedding_size, hidden_dim, batch_first=True)\n",
    "        self.fc = nn.Linear(hidden_dim, num_outputs)\n",
    "\n",
    "    def forward(self, x, lengths):\n",
    "        embed = self.embedding(x)\n",
    "        packed_embed = pack_padded_sequence(embed, lengths.cpu(), batch_first=True, enforce_sorted=False)\n",
    "        packed_output, (ht, _) = self.lstm(packed_embed) # DIFFERENCE FROM RNN | LSTM returns both the hidden state and cell state\n",
    "        output, _ = pad_packed_sequence(packed_output, batch_first=True)\n",
    "        h_t = ht[-1]\n",
    "        logits = self.fc(h_t)\n",
    "        return logits\n",
    "    \n",
    "## Training\n",
    "# Instantiate model\n",
    "model = LSTMClassifier(\n",
    "    vocab_size = VOCAB_SIZE,\n",
    "    embedding_size = EMBED_DIM, \n",
    "    hidden_dim = HIDDEN_DIM, \n",
    "    num_outputs = NUM_OUTPUTS,\n",
    ")\n",
    "criterion = nn.CrossEntropyLoss()\n",
    "optimizer = torch.optim.Adam(model.parameters(), lr=0.001)\n",
    "scheduler = torch.optim.lr_scheduler.StepLR(optimizer, step_size=5, gamma=0.1)\n",
    "\n",
    "# Training with validation and early stopping\n",
    "best_val_loss = float('inf')\n",
    "early_stop_counter = 0\n",
    "\n",
    "for epoch in range(NUM_EPOCHS):\n",
    "    model.train()\n",
    "    train_loss = 0.0\n",
    "    for data, labels, lengths in tqdm(train_loader, desc=f\"Epoch {epoch+1}/{NUM_EPOCHS}\"):\n",
    "        optimizer.zero_grad()\n",
    "        output = model(data, lengths)\n",
    "        loss = criterion(output, labels)\n",
    "        loss.backward()\n",
    "        optimizer.step()\n",
    "        train_loss += loss.item()\n",
    "\n",
    "    scheduler.step()\n",
    "    avg_train_loss = train_loss / len(train_loader)\n",
    "    print(f'Epoch {epoch+1}/{NUM_EPOCHS}, Training Loss: {avg_train_loss:.4f}')\n",
    "\n",
    "    # Validation\n",
    "    model.eval()\n",
    "    val_loss = 0.0\n",
    "    correct = 0\n",
    "    total = 0\n",
    "    with torch.no_grad():\n",
    "        for data, labels, lengths in val_loader:\n",
    "            output = model(data, lengths)\n",
    "            loss = criterion(output, labels)\n",
    "            val_loss += loss.item()\n",
    "            predictions = torch.argmax(output, dim=1)\n",
    "            correct += (predictions == labels).sum().item()\n",
    "            total += labels.size(0)\n",
    "\n",
    "    avg_val_loss = val_loss / len(val_loader)\n",
    "    val_accuracy = correct / total\n",
    "    print(f'Epoch {epoch+1}/{NUM_EPOCHS}, Validation Loss: {avg_val_loss:.4f}, Validation Accuracy: {val_accuracy:.4f}')\n",
    "\n",
    "    # Early stopping\n",
    "    if avg_val_loss < best_val_loss:\n",
    "        best_val_loss = avg_val_loss\n",
    "        early_stop_counter = 0\n",
    "    else:\n",
    "        early_stop_counter += 1\n",
    "\n",
    "    if early_stop_counter >= PATIENCE:\n",
    "        print(f\"Early stopping at epoch {epoch+1}\")\n",
    "        break\n",
    "\n",
    "# Testing\n",
    "model.eval()\n",
    "correct = 0\n",
    "total = 0\n",
    "with torch.no_grad():\n",
    "    for data, labels, lengths in tqdm(test_loader, desc=\"Testing\"):\n",
    "        output = model(data, lengths)\n",
    "        predictions = torch.argmax(output, dim=1)\n",
    "        correct += (predictions == labels).sum().item()\n",
    "        total += labels.size(0)\n",
    "\n",
    "test_accuracy = correct / total\n",
    "print(f'Test accuracy: {test_accuracy:.4f}')\n"
   ]
  },
  {
   "cell_type": "markdown",
   "metadata": {},
   "source": [
    "### Gated Recurrent Unit (GRU)"
   ]
  },
  {
   "cell_type": "code",
   "execution_count": 11,
   "metadata": {},
   "outputs": [
    {
     "name": "stderr",
     "output_type": "stream",
     "text": [
      "Epoch 1/10: 100%|██████████| 750/750 [02:44<00:00,  4.56it/s]\n"
     ]
    },
    {
     "name": "stdout",
     "output_type": "stream",
     "text": [
      "Epoch 1/10, Training Loss: 0.6673\n",
      "Epoch 1/10, Validation Loss: 0.3653, Validation Accuracy: 0.8738\n"
     ]
    },
    {
     "name": "stderr",
     "output_type": "stream",
     "text": [
      "Epoch 2/10: 100%|██████████| 750/750 [02:58<00:00,  4.20it/s]\n"
     ]
    },
    {
     "name": "stdout",
     "output_type": "stream",
     "text": [
      "Epoch 2/10, Training Loss: 0.2872\n",
      "Epoch 2/10, Validation Loss: 0.3040, Validation Accuracy: 0.8952\n"
     ]
    },
    {
     "name": "stderr",
     "output_type": "stream",
     "text": [
      "Epoch 3/10: 100%|██████████| 750/750 [03:31<00:00,  3.55it/s]\n"
     ]
    },
    {
     "name": "stdout",
     "output_type": "stream",
     "text": [
      "Epoch 3/10, Training Loss: 0.2106\n",
      "Epoch 3/10, Validation Loss: 0.3013, Validation Accuracy: 0.9010\n"
     ]
    },
    {
     "name": "stderr",
     "output_type": "stream",
     "text": [
      "Epoch 4/10: 100%|██████████| 750/750 [03:53<00:00,  3.22it/s]\n"
     ]
    },
    {
     "name": "stdout",
     "output_type": "stream",
     "text": [
      "Epoch 4/10, Training Loss: 0.1615\n",
      "Epoch 4/10, Validation Loss: 0.3116, Validation Accuracy: 0.9021\n"
     ]
    },
    {
     "name": "stderr",
     "output_type": "stream",
     "text": [
      "Epoch 5/10: 100%|██████████| 750/750 [03:51<00:00,  3.24it/s]\n"
     ]
    },
    {
     "name": "stdout",
     "output_type": "stream",
     "text": [
      "Epoch 5/10, Training Loss: 0.1242\n",
      "Epoch 5/10, Validation Loss: 0.3208, Validation Accuracy: 0.9025\n",
      "Early stopping at epoch 5\n"
     ]
    },
    {
     "name": "stderr",
     "output_type": "stream",
     "text": [
      "Testing: 100%|██████████| 60/60 [00:02<00:00, 22.41it/s]"
     ]
    },
    {
     "name": "stdout",
     "output_type": "stream",
     "text": [
      "Test accuracy: 0.9039\n"
     ]
    },
    {
     "name": "stderr",
     "output_type": "stream",
     "text": [
      "\n"
     ]
    }
   ],
   "source": [
    "import torch.nn as nn\n",
    "import torch.nn.functional as F\n",
    "from tqdm import tqdm\n",
    "from torch.nn.utils.rnn import pad_sequence, pack_padded_sequence, pad_packed_sequence\n",
    "\n",
    "# Define the RNN-based model\n",
    "class GRUClassifier(nn.Module):\n",
    "    def __init__(self, vocab_size, embedding_size, hidden_dim, num_outputs):\n",
    "        super(GRUClassifier, self).__init__()\n",
    "        self.embedding = nn.Embedding(vocab_size, embedding_size)\n",
    "        self.gru = nn.GRU(embedding_size, hidden_dim, batch_first=True)\n",
    "        self.fc = nn.Linear(hidden_dim, num_outputs)\n",
    "\n",
    "    def forward(self, x, lengths):\n",
    "        embed = self.embedding(x)\n",
    "        packed_embed = pack_padded_sequence(embed, lengths.cpu(), batch_first=True, enforce_sorted=False)\n",
    "        packed_output, ht = self.gru(packed_embed)\n",
    "        output, _ = pad_packed_sequence(packed_output, batch_first=True)\n",
    "        h_t = ht[-1]\n",
    "        logits = self.fc(h_t)\n",
    "        return logits\n",
    "    \n",
    "## Training\n",
    "# Instantiate model\n",
    "model = GRUClassifier(\n",
    "    vocab_size = VOCAB_SIZE,\n",
    "    embedding_size = EMBED_DIM, \n",
    "    hidden_dim = HIDDEN_DIM, \n",
    "    num_outputs = NUM_OUTPUTS,\n",
    ")\n",
    "criterion = nn.CrossEntropyLoss()\n",
    "optimizer = torch.optim.Adam(model.parameters(), lr=0.001)\n",
    "scheduler = torch.optim.lr_scheduler.StepLR(optimizer, step_size=5, gamma=0.1)\n",
    "\n",
    "# Training with validation and early stopping\n",
    "best_val_loss = float('inf')\n",
    "early_stop_counter = 0\n",
    "\n",
    "for epoch in range(NUM_EPOCHS):\n",
    "    model.train()\n",
    "    train_loss = 0.0\n",
    "    for data, labels, lengths in tqdm(train_loader, desc=f\"Epoch {epoch+1}/{NUM_EPOCHS}\"):\n",
    "        optimizer.zero_grad()\n",
    "        output = model(data, lengths)\n",
    "        loss = criterion(output, labels)\n",
    "        loss.backward()\n",
    "        optimizer.step()\n",
    "        train_loss += loss.item()\n",
    "\n",
    "    scheduler.step()\n",
    "    avg_train_loss = train_loss / len(train_loader)\n",
    "    print(f'Epoch {epoch+1}/{NUM_EPOCHS}, Training Loss: {avg_train_loss:.4f}')\n",
    "\n",
    "    # Validation\n",
    "    model.eval()\n",
    "    val_loss = 0.0\n",
    "    correct = 0\n",
    "    total = 0\n",
    "    with torch.no_grad():\n",
    "        for data, labels, lengths in val_loader:\n",
    "            output = model(data, lengths)\n",
    "            loss = criterion(output, labels)\n",
    "            val_loss += loss.item()\n",
    "            predictions = torch.argmax(output, dim=1)\n",
    "            correct += (predictions == labels).sum().item()\n",
    "            total += labels.size(0)\n",
    "\n",
    "    avg_val_loss = val_loss / len(val_loader)\n",
    "    val_accuracy = correct / total\n",
    "    print(f'Epoch {epoch+1}/{NUM_EPOCHS}, Validation Loss: {avg_val_loss:.4f}, Validation Accuracy: {val_accuracy:.4f}')\n",
    "\n",
    "    # Early stopping\n",
    "    if avg_val_loss < best_val_loss:\n",
    "        best_val_loss = avg_val_loss\n",
    "        early_stop_counter = 0\n",
    "    else:\n",
    "        early_stop_counter += 1\n",
    "\n",
    "    if early_stop_counter >= PATIENCE:\n",
    "        print(f\"Early stopping at epoch {epoch+1}\")\n",
    "        break\n",
    "\n",
    "# Testing\n",
    "model.eval()\n",
    "correct = 0\n",
    "total = 0\n",
    "with torch.no_grad():\n",
    "    for data, labels, lengths in tqdm(test_loader, desc=\"Testing\"):\n",
    "        output = model(data, lengths)\n",
    "        predictions = torch.argmax(output, dim=1)\n",
    "        correct += (predictions == labels).sum().item()\n",
    "        total += labels.size(0)\n",
    "\n",
    "test_accuracy = correct / total\n",
    "print(f'Test accuracy: {test_accuracy:.4f}')\n"
   ]
  }
 ],
 "metadata": {
  "kernelspec": {
   "display_name": "base",
   "language": "python",
   "name": "python3"
  },
  "language_info": {
   "codemirror_mode": {
    "name": "ipython",
    "version": 3
   },
   "file_extension": ".py",
   "mimetype": "text/x-python",
   "name": "python",
   "nbconvert_exporter": "python",
   "pygments_lexer": "ipython3",
   "version": "3.11.7"
  }
 },
 "nbformat": 4,
 "nbformat_minor": 2
}
