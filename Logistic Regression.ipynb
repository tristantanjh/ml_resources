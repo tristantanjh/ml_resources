{
 "cells": [
  {
   "cell_type": "markdown",
   "id": "671f1253",
   "metadata": {},
   "source": [
    "# Logistic Regression PyTorch"
   ]
  },
  {
   "cell_type": "markdown",
   "id": "5a04b8b4",
   "metadata": {},
   "source": [
    "MNIST Dataset Logistic Regression with forward & backward pass, loss functions, optimizers. "
   ]
  },
  {
   "cell_type": "code",
   "execution_count": 7,
   "id": "8220be89",
   "metadata": {},
   "outputs": [],
   "source": [
    "%matplotlib inline\n",
    "\n",
    "import numpy as np\n",
    "import matplotlib.pyplot as plt\n",
    "import torch\n",
    "from tqdm.notebook import tqdm"
   ]
  },
  {
   "cell_type": "markdown",
   "id": "fef07ced",
   "metadata": {},
   "source": [
    "### Preparing Data"
   ]
  },
  {
   "cell_type": "markdown",
   "id": "501c4402",
   "metadata": {},
   "source": [
    "Use `torchvision` to download train and test sets.\n",
    "\n",
    "Note: `ToTensor()` does the following operations:\n",
    "- Rescale the input data: For PIL Images, the pixel values are rescaled from the range [0, 255] to [0, 1]. For NumPy arrays, no rescaling is performed.\n",
    "- Convert to Tensor: The rescaled image data is converted to a PyTorch Tensor.\n",
    "- Swap axes: For PIL Images, the dimensions are swapped from (H, W, C) to (C, H, W), where H, W, and C represent Height, Width, and Channels, respectively. This is done to conform to PyTorch's expected tensor format for images."
   ]
  },
  {
   "cell_type": "code",
   "execution_count": 17,
   "id": "8ac08afe",
   "metadata": {},
   "outputs": [
    {
     "name": "stdout",
     "output_type": "stream",
     "text": [
      "Number of MNIST training examples: 60000\n",
      "Number of MNIST test examples: 10000\n"
     ]
    }
   ],
   "source": [
    "from torchvision import datasets, transforms\n",
    "\n",
    "mnist_train = datasets.MNIST(root=\"./datasets\", train=True, transform=transforms.ToTensor(), download=True)\n",
    "mnist_test = datasets.MNIST(root=\"./datasets\", train=False, transform=transforms.ToTensor(), download=True)\n",
    "\n",
    "print(\"Number of MNIST training examples: {}\".format(len(mnist_train)))\n",
    "print(\"Number of MNIST test examples: {}\".format(len(mnist_test)))"
   ]
  },
  {
   "cell_type": "markdown",
   "id": "21fdb9de",
   "metadata": {},
   "source": [
    "Plot Image of train set."
   ]
  },
  {
   "cell_type": "code",
   "execution_count": 37,
   "id": "f309a371",
   "metadata": {},
   "outputs": [
    {
     "name": "stdout",
     "output_type": "stream",
     "text": [
      "Default image shape: torch.Size([1, 28, 28])\n",
      "Reshaped image shape: torch.Size([28, 28])\n",
      "The label for this image: 1\n"
     ]
    },
    {
     "data": {
      "image/png": "[encoded data removed]",
      "text/plain": [
       "<Figure size 640x480 with 1 Axes>"
      ]
     },
     "metadata": {},
     "output_type": "display_data"
    }
   ],
   "source": [
    "# Pick out the 9th (0-indexed) example from the training set\n",
    "image, label = mnist_train[8]\n",
    "\n",
    "# Plot the image\n",
    "print(\"Default image shape: {}\".format(image.shape)) # 1 in the 1st dimension means only 1 channel (greyscale)\n",
    "image = image.reshape([28,28])\n",
    "print(\"Reshaped image shape: {}\".format(image.shape)) # Remove the 1st dimension to plot\n",
    "plt.imshow(image, cmap=\"gray\")\n",
    "\n",
    "# Print the label\n",
    "print(\"The label for this image: {}\".format(label))"
   ]
  },
  {
   "cell_type": "markdown",
   "id": "fb687a7a",
   "metadata": {},
   "source": [
    "Use `DataLoader` for shuffling and batching, to create minibatches."
   ]
  },
  {
   "cell_type": "code",
   "execution_count": 36,
   "id": "83df74fd",
   "metadata": {
    "scrolled": true
   },
   "outputs": [
    {
     "name": "stdout",
     "output_type": "stream",
     "text": [
      "Shape of the minibatch of images: torch.Size([100, 1, 28, 28])\n",
      "Shape of the minibatch of labels: torch.Size([100])\n"
     ]
    }
   ],
   "source": [
    "train_loader = torch.utils.data.DataLoader(mnist_train, batch_size=100, shuffle=True)\n",
    "test_loader = torch.utils.data.DataLoader(mnist_test, batch_size=100, shuffle=False)\n",
    "\n",
    "\n",
    "for images, labels in train_loader:\n",
    "    print(f\"Shape of the minibatch of images: {images.shape}\")\n",
    "    print(f\"Shape of the minibatch of labels: {labels.shape}\")\n",
    "    # Add any additional processing or training code here\n",
    "    break  # Remove this line if you want to iterate over the entire dataset"
   ]
  },
  {
   "cell_type": "markdown",
   "id": "56e8f731",
   "metadata": {},
   "source": [
    "### Logistic Regression Model"
   ]
  },
  {
   "cell_type": "markdown",
   "id": "a2d55437",
   "metadata": {},
   "source": [
    "#### Forward Pass (Init)"
   ]
  },
  {
   "cell_type": "markdown",
   "id": "ac1e225a",
   "metadata": {},
   "source": [
    "Treat inputs as flat vectors as digits in MNIST dataset are small, and model is simple.\n",
    "\n",
    "Use `view()` to convert inputs into row vectors (flattening). Replace one of the dimensions with `-1` to tell PyTorch to infer this dimension based on original dimensions and other specified dimensions."
   ]
  },
  {
   "cell_type": "code",
   "execution_count": 38,
   "id": "3c20e235",
   "metadata": {},
   "outputs": [
    {
     "name": "stdout",
     "output_type": "stream",
     "text": [
      "The shape of input x: torch.Size([100, 784])\n"
     ]
    }
   ],
   "source": [
    "x = images.view(-1, 28*28)\n",
    "print(\"The shape of input x: {}\".format(x.shape))"
   ]
  },
  {
   "cell_type": "markdown",
   "id": "d3ff468a",
   "metadata": {},
   "source": [
    "To get our predicted probabilities of each digit, start with the probability of a digit being a 1 like the image above. \n",
    "\n",
    "Apply linear transformation by multiplying each pixel $x_i$ of the input row vector by a weight $w_{i,1}$, sum them all together, and then adding a bias $b_1$.\n",
    "This is equivalent to a dot product between the class \"1\" weights and the input:\n",
    "\n",
    "\\begin{align}\n",
    "y_1 = \\sum_i x_i w_{i,1} + b_1\n",
    "\\end{align}\n",
    "\n",
    "The higher the value of $y_1$, the more likely we think the input image $x$ was a 1. \n",
    "\n",
    "To identify all 10 digits:\n",
    "\n",
    "\\begin{align*}\n",
    "y_0 =& \\sum_i x_i w_{i,0} + b_0 \\\\\n",
    "y_1 =& \\sum_i x_i w_{i,1} + b_1 \\\\\n",
    "y_2 =& \\sum_i x_i w_{i,2} + b_2 \\\\\n",
    "y_3 =& \\sum_i x_i w_{i,3} + b_3 \\\\\n",
    "y_4 =& \\sum_i x_i w_{i,4} + b_4 \\\\\n",
    "y_5 =& \\sum_i x_i w_{i,5} + b_5 \\\\\n",
    "y_6 =& \\sum_i x_i w_{i,6} + b_6 \\\\\n",
    "y_7 =& \\sum_i x_i w_{i,7} + b_7 \\\\\n",
    "y_8 =& \\sum_i x_i w_{i,8} + b_8 \\\\\n",
    "y_9 =& \\sum_i x_i w_{i,9} + b_9\n",
    "\\end{align*}\n",
    "\n",
    "We can express this in matrix form as:\n",
    "\n",
    "\\begin{align}\n",
    "y = x W + b \n",
    "\\end{align}\n",
    "\n",
    "To take advantage of parallel computation, we commonly process multiple inputs $x$ at once, in a minibatch.\n",
    "We can stack each input $x$ into a matrix $X$, giving us \n",
    "\n",
    "\\begin{align}\n",
    "Y = X W + b \n",
    "\\end{align}\n",
    "\n",
    "In our specific example, the minibatch size $m$ is $100$, the dimension of the data is $28 \\times 28=784$, and the number of classes $c$ is $10$.\n",
    "While $X$ and $Y$ are matrices due to the batching, conventionally, they are often given lowercase variable names, as if they were for a single example.\n",
    "We will use `x` and `y` throughout."
   ]
  },
  {
   "cell_type": "markdown",
   "id": "c47417bd",
   "metadata": {},
   "source": [
    "The weight $W$ and bias $b$ make up the parameters of this model.\n",
    "\n",
    "Next, learn the model by finding good values for every element in $W$ and $b$.\n",
    "\n",
    "Before we begin learning, we need to initialize our parameters to some value, as a starting point.\n",
    "Here, we don't really know what the best values are, so initialize $W$ randomly (using something called [Xavier initialization](http://proceedings.mlr.press/v9/glorot10a.html)), and set $b$ to a vector of zeros."
   ]
  },
  {
   "cell_type": "code",
   "execution_count": 53,
   "id": "30bfae8b",
   "metadata": {},
   "outputs": [],
   "source": [
    "# Randomly initialize weights W\n",
    "W = torch.randn(784, 10)/np.sqrt(784)\n",
    "W.requires_grad_()\n",
    "\n",
    "# Initialize bias b as 0s\n",
    "b = torch.zeros(10, requires_grad=True)\n",
    "\n",
    "# As both `W` and `b` are parameters we wish to learn, we set `requires_grad` to `True`. \n",
    "# This tells PyTorch's autograd to track the gradients for these two variables, and all the variables depending on `W` and `b`."
   ]
  },
  {
   "cell_type": "markdown",
   "id": "8f08c66a",
   "metadata": {},
   "source": [
    "Compute $y$ with these model parameters:"
   ]
  },
  {
   "cell_type": "code",
   "execution_count": 54,
   "id": "aff7e8b4",
   "metadata": {},
   "outputs": [
    {
     "name": "stdout",
     "output_type": "stream",
     "text": [
      "tensor([ 0.3687, -0.3464,  0.3133, -0.2657, -0.1009,  0.0777,  0.2062, -0.4710,\n",
      "        -0.5439,  0.3837], grad_fn=<SliceBackward0>)\n"
     ]
    }
   ],
   "source": [
    "# Linear transformation with W and b\n",
    "y = torch.matmul(x, W) + b\n",
    "\n",
    "print(y[0,:])"
   ]
  },
  {
   "attachments": {
    "image.png": {
     "image/png": "[encoded data removed]"
    }
   },
   "cell_type": "markdown",
   "id": "2a50e27c",
   "metadata": {},
   "source": [
    "Normalize values (logits) $y$ as probabilities using softmax (for logistic regression):\n",
    "\n",
    "\\begin{align}\n",
    "p(y_i) = \\text{softmax}(y_i) = \\frac{\\text{exp}(y_i)}{\\sum_j\\text{exp}(y_j)}\n",
    "\\end{align}\n",
    "\n",
    "Notice that because the range of the exponential function is always non-negative, and since we're normalizing by the sum, the softmax achieves the desired property of producing values between 0 and 1 that sum to 1. If we look at the case with only 2 classes, we see that the softmax is the multi-class extension of the binary sigmoid function: \n",
    "\n",
    "\n",
    "![image.png](attachment:image.png)\n",
    "\n",
    "\n",
    "Compute softmax using PyTorch `torch.nn.functional`:"
   ]
  },
  {
   "cell_type": "code",
   "execution_count": 55,
   "id": "87e5ad72",
   "metadata": {},
   "outputs": [
    {
     "name": "stdout",
     "output_type": "stream",
     "text": [
      "py[0] from equation: tensor([0.1421, 0.0695, 0.1345, 0.0754, 0.0889, 0.1062, 0.1208, 0.0614, 0.0571,\n",
      "        0.1443], grad_fn=<SelectBackward0>)\n",
      "py[0] with torch.nn.functional.softmax: tensor([0.1421, 0.0695, 0.1345, 0.0754, 0.0889, 0.1062, 0.1208, 0.0614, 0.0571,\n",
      "        0.1443], grad_fn=<SelectBackward0>)\n"
     ]
    }
   ],
   "source": [
    "# Option 1: Softmax to probabilities from equation\n",
    "py_eq = torch.exp(y) / torch.sum(torch.exp(y), dim=1, keepdim=True)\n",
    "print(\"py[0] from equation: {}\".format(py_eq[0]))\n",
    "\n",
    "# Option 2: Softmax to probabilities with torch.nn.functional\n",
    "import torch.nn.functional as F\n",
    "py = F.softmax(y, dim=1)\n",
    "print(\"py[0] with torch.nn.functional.softmax: {}\".format(py[0]))"
   ]
  },
  {
   "cell_type": "markdown",
   "id": "67b0bf0e",
   "metadata": {},
   "source": [
    "#### Cross-Entropy Loss (Loss Function)"
   ]
  },
  {
   "cell_type": "markdown",
   "id": "950937ba",
   "metadata": {},
   "source": [
    "We need to measure how the model is doing before we adjust any weights. Do this using **loss function**, which takes the model's prediction and returns a single number (i.e. a scalar) summarizing model performance.\n",
    "This loss will inform how we adjust the parameters of the model.\n",
    "\n",
    "The loss we commonly use in classification is cross-entropy, a concept from information theory.\n",
    "Can think of it as a way of quantifying how far apart one distribution $y'$ is from another $y$.\n",
    "\n",
    "\\begin{align}\n",
    "H_{y'}(y)=-\\sum_i y'_i \\text{log}(y_i)\n",
    "\\end{align}\n",
    "\n",
    "$y$ is the set of probabilities predicted by the model ($py$ above); $y'$ is the target distribution (true label which we want the model to predict).\n",
    "\n",
    "Cross-entropy not only captures how *correct* (max probability corresponds to the right answer) the model's answers are, it also accounts for how *confident* (high confidence in correct answers) they are. This encourages the model to produce very high probabilities for correct answers while driving down the probabilities for the wrong answers, instead of merely being satisfied with it being the argmax. \n",
    "\n",
    "Cross-entropy captures both how correct (max probability corresponds to the right answer) the models answers are and how confident (high confidence in correct answers) they are.  \n",
    "\n",
    "This encourages the model to produce very high probabilities for correct answers while driving down the probabilities for the wrong answers, instead of merely being satisfied with it being the argmax. \n",
    "\n",
    "Here we are doing **supervised** learning, a setting in which we have the labels.\n",
    "Our `DataLoader` automatically includes the corresponding labels for each of our inputs."
   ]
  },
  {
   "cell_type": "code",
   "execution_count": 56,
   "id": "03ce2c96",
   "metadata": {},
   "outputs": [
    {
     "name": "stdout",
     "output_type": "stream",
     "text": [
      "torch.Size([100])\n"
     ]
    }
   ],
   "source": [
    "# labels from the first minibatch\n",
    "print(labels.shape)"
   ]
  },
  {
   "cell_type": "markdown",
   "id": "1c6b0efe",
   "metadata": {},
   "source": [
    "`torch.nn.functional` already has the cross-entropy loss implemented as well."
   ]
  },
  {
   "cell_type": "code",
   "execution_count": 57,
   "id": "fd4a5174",
   "metadata": {},
   "outputs": [
    {
     "name": "stdout",
     "output_type": "stream",
     "text": [
      "cross entropy from equation: 2.348916530609131\n",
      "cross entropy with torch.nn.functional.cross_entropy: 2.34891676902771\n"
     ]
    }
   ],
   "source": [
    "# Cross-entropy loss from equation\n",
    "cross_entropy_eq = torch.mean(-torch.log(py_eq)[range(labels.shape[0]),labels])\n",
    "print(\"cross entropy from equation: {}\".format(cross_entropy_eq))\n",
    "\n",
    "# Option 2: cross-entropy loss with torch.nn.functional\n",
    "cross_entropy = F.cross_entropy(y, labels)\n",
    "print(\"cross entropy with torch.nn.functional.cross_entropy: {}\".format(cross_entropy))"
   ]
  },
  {
   "cell_type": "markdown",
   "id": "b571630e",
   "metadata": {},
   "source": [
    "Note that PyTorch's cross-entropy loss combines the softmax operator and cross-entropy into a single operation, for numerical stability reasons.\n",
    "\n",
    "Make sure to feed in the pre-softmax logits `y`, not the post-softmax probabilities `py`."
   ]
  },
  {
   "cell_type": "markdown",
   "id": "03c75bea",
   "metadata": {},
   "source": [
    "#### Backwards Pass (Back Propagation)"
   ]
  },
  {
   "cell_type": "markdown",
   "id": "4c44155b",
   "metadata": {},
   "source": [
    "Now that we have the loss as a way of quantifying how badly the model is doing, we can improve our model by changing the parameters in a way that minimizes the loss.\n",
    "\n",
    "Now we want to improve the model by changing parameters to minimize loss, via **Back Propagation**, by\n",
    "taking the gradient of the loss with respect to $W$ and $b$ and take a step in the direction that reduces our loss.\n",
    "\n",
    "First, create an optimizer.\n",
    "Use standard stochastic gradient descent (SGD) as logistic regression model is simple, which makes the following update:\n",
    "\n",
    "\\begin{align}\n",
    "\\theta_{t+1} = \\theta_t - \\alpha \\nabla_\\theta \\mathcal{L}\n",
    "\\end{align}\n",
    "\n",
    "where $\\theta$ is a parameter, $\\alpha$ is our learning rate (step size), and $\\nabla_\\theta \\mathcal{L}$ is the gradient of our loss with respect to $\\theta$."
   ]
  },
  {
   "cell_type": "code",
   "execution_count": 61,
   "id": "d9841d2e",
   "metadata": {},
   "outputs": [],
   "source": [
    "# Optimizer\n",
    "optimizer = torch.optim.SGD([W,b], lr=0.1) \n",
    "# W = weight tensor\n",
    "# b = bias term\n",
    "# lr = learning rate"
   ]
  },
  {
   "cell_type": "markdown",
   "id": "85cb6b42",
   "metadata": {},
   "source": [
    "Call the `backward()` function on the cross-entropy loss to compute gradients for $W$ and $b$."
   ]
  },
  {
   "cell_type": "code",
   "execution_count": 59,
   "id": "987f10ba",
   "metadata": {},
   "outputs": [],
   "source": [
    "cross_entropy.backward()"
   ]
  },
  {
   "cell_type": "markdown",
   "id": "61058914",
   "metadata": {},
   "source": [
    "Each of the variables that required gradients have now accumulated gradients.\n",
    "For example on `b`:"
   ]
  },
  {
   "cell_type": "code",
   "execution_count": 60,
   "id": "128396fb",
   "metadata": {},
   "outputs": [
    {
     "data": {
      "text/plain": [
       "tensor([-0.0089,  0.0158,  0.0256,  0.0226,  0.0021, -0.0003, -0.0361, -0.0920,\n",
       "         0.0366,  0.0346])"
      ]
     },
     "execution_count": 60,
     "metadata": {},
     "output_type": "execute_result"
    }
   ],
   "source": [
    "b.grad"
   ]
  },
  {
   "cell_type": "markdown",
   "id": "ae1a4e76",
   "metadata": {},
   "source": [
    "Perform update step:"
   ]
  },
  {
   "cell_type": "code",
   "execution_count": 62,
   "id": "0e498e30",
   "metadata": {},
   "outputs": [],
   "source": [
    "optimizer.step()"
   ]
  },
  {
   "cell_type": "markdown",
   "id": "f4af5d19",
   "metadata": {},
   "source": [
    "So b has now been updated by `-0.1*b.grad` (since lr = 0.1)"
   ]
  },
  {
   "cell_type": "code",
   "execution_count": 63,
   "id": "15b97e71",
   "metadata": {},
   "outputs": [
    {
     "data": {
      "text/plain": [
       "tensor([ 8.9371e-04, -1.5800e-03, -2.5576e-03, -2.2605e-03, -2.0957e-04,\n",
       "         3.1560e-05,  3.6072e-03,  9.1989e-03, -3.6590e-03, -3.4646e-03],\n",
       "       requires_grad=True)"
      ]
     },
     "execution_count": 63,
     "metadata": {},
     "output_type": "execute_result"
    }
   ],
   "source": [
    "b"
   ]
  },
  {
   "cell_type": "markdown",
   "id": "393fbd4e",
   "metadata": {},
   "source": [
    "Training is now done on 1 minibatch, however need to repeat this process for multiple minibatches.\n",
    "\n",
    "Note: Gradients calculated by `backward()` don't override the old values; instead, they accumulate.\n",
    "Therefore, need to clear the gradient buffers before computing gradients for the next minibatch."
   ]
  },
  {
   "cell_type": "code",
   "execution_count": 68,
   "id": "680086e3",
   "metadata": {},
   "outputs": [
    {
     "name": "stdout",
     "output_type": "stream",
     "text": [
      "b.grad before zero_grad(): tensor([-0.0089,  0.0158,  0.0256,  0.0226,  0.0021, -0.0003, -0.0361, -0.0920,\n",
      "         0.0366,  0.0346])\n",
      "b.grad after zero_grad(): None\n"
     ]
    }
   ],
   "source": [
    "print(\"b.grad before zero_grad(): {}\".format(b.grad))\n",
    "optimizer.zero_grad()\n",
    "print(\"b.grad after zero_grad(): {}\".format(b.grad))"
   ]
  },
  {
   "cell_type": "markdown",
   "id": "29303f36",
   "metadata": {},
   "source": [
    "#### Model Training"
   ]
  },
  {
   "cell_type": "markdown",
   "id": "98581e45",
   "metadata": {},
   "source": [
    "To train the model, repeat for more minibatches from the training set.\n",
    "Steps:\n",
    "1. Draw a minibatch\n",
    "2. Zero the gradients in the buffers for `W` and `b`\n",
    "3. Perform the forward pass (compute prediction, calculate loss)\n",
    "4. Perform the backward pass (compute gradients, perform SGD step)\n",
    "\n",
    "Going through the entire dataset once is an epoch.\n",
    "Also wrap the train_loader with `tqdm` (for progress bar)"
   ]
  },
  {
   "cell_type": "code",
   "execution_count": 69,
   "id": "6dba13d5",
   "metadata": {},
   "outputs": [
    {
     "data": {
      "application/vnd.jupyter.widget-view+json": {
       "model_id": "e8b06641e03c40619dcdead82b0cd9c7",
       "version_major": 2,
       "version_minor": 0
      },
      "text/plain": [
       "  0%|          | 0/600 [00:00<?, ?it/s]"
      ]
     },
     "metadata": {},
     "output_type": "display_data"
    }
   ],
   "source": [
    "# Iterate through train set minibatchs \n",
    "for images, labels in tqdm(train_loader):\n",
    "    # Zero out the gradients\n",
    "    optimizer.zero_grad()\n",
    "    \n",
    "    # Forward pass\n",
    "    x = images.view(-1, 28*28)\n",
    "    y = torch.matmul(x, W) + b\n",
    "    cross_entropy = F.cross_entropy(y, labels)\n",
    "    # Backward pass\n",
    "    cross_entropy.backward()\n",
    "    optimizer.step()"
   ]
  },
  {
   "cell_type": "markdown",
   "id": "e8f6a5c7",
   "metadata": {},
   "source": [
    "#### Testing"
   ]
  },
  {
   "cell_type": "markdown",
   "id": "4af91663",
   "metadata": {},
   "source": [
    "For every image in our test set, we run the data through the model, and take the digit in which we have the highest confidence as our answer. \n",
    "\n",
    "Then compute an accuracy by seeing how many we got correct.\n",
    "\n",
    "(Wrap evaluation with `torch.no_grad()` because no need to compute gradients during evaluation)"
   ]
  },
  {
   "cell_type": "code",
   "execution_count": 70,
   "id": "2b475e6e",
   "metadata": {},
   "outputs": [
    {
     "data": {
      "application/vnd.jupyter.widget-view+json": {
       "model_id": "0852634994a5458ebcc689431ff2f5b2",
       "version_major": 2,
       "version_minor": 0
      },
      "text/plain": [
       "  0%|          | 0/100 [00:00<?, ?it/s]"
      ]
     },
     "metadata": {},
     "output_type": "display_data"
    },
    {
     "name": "stdout",
     "output_type": "stream",
     "text": [
      "Test accuracy: 0.9023000001907349\n"
     ]
    }
   ],
   "source": [
    "correct = 0\n",
    "total = len(mnist_test)\n",
    "\n",
    "with torch.no_grad():\n",
    "    # Iterate through test set minibatchs \n",
    "    for images, labels in tqdm(test_loader):\n",
    "        # Forward pass\n",
    "        x = images.view(-1, 28*28)\n",
    "        y = torch.matmul(x, W) + b\n",
    "        \n",
    "        predictions = torch.argmax(y, dim=1)\n",
    "        correct += torch.sum((predictions == labels).float())\n",
    "    \n",
    "print('Test accuracy: {}'.format(correct/total))"
   ]
  },
  {
   "cell_type": "markdown",
   "id": "9ed3434f",
   "metadata": {},
   "source": [
    "Plot model learning since it is simple here:"
   ]
  },
  {
   "cell_type": "code",
   "execution_count": 71,
   "id": "28b856f0",
   "metadata": {},
   "outputs": [
    {
     "data": {
      "image/png": "[encoded data removed]",
      "text/plain": [
       "<Figure size 2000x200 with 10 Axes>"
      ]
     },
     "metadata": {},
     "output_type": "display_data"
    }
   ],
   "source": [
    "# Get weights\n",
    "fig, ax = plt.subplots(1, 10, figsize=(20, 2))\n",
    "\n",
    "for digit in range(10):\n",
    "    ax[digit].imshow(W[:,digit].detach().view(28,28), cmap='gray')"
   ]
  },
  {
   "cell_type": "markdown",
   "id": "85c7cc9e",
   "metadata": {},
   "source": [
    "As we can see, the model learned a template for each digit.\n",
    "Remember that our model takes a dot product between the weights of each digit and input.\n",
    "Therefore, the more the input matches the template for a digit, the higher the value of the dot product for that digit will be, which makes the model more likely to predict that digit."
   ]
  },
  {
   "cell_type": "markdown",
   "id": "39311633",
   "metadata": {},
   "source": [
    "### High Level APIs"
   ]
  },
  {
   "cell_type": "markdown",
   "id": "312174e1",
   "metadata": {},
   "source": [
    "Important to use APIs to speed up implementations and improve model organization. Common way - `torch.nn.Module`"
   ]
  },
  {
   "cell_type": "markdown",
   "id": "d75e20a2",
   "metadata": {},
   "source": [
    "#### Object Oriented Refactorization"
   ]
  },
  {
   "cell_type": "markdown",
   "id": "02a0132a",
   "metadata": {},
   "source": [
    "In the linear transformation $y = xW + b$, while the operation consisted of a matrix multiplication and addition, also associated with this operation was the instantiation of two parameters `W` and `b`, and these two parameters conceptually *belong* to the transform.\n",
    "\n",
    "As such, it would make sense to bundle up the instantiation of the two parameters with the actual transformation.\n",
    "\n",
    "We can place our entire neural network within a `Module`.\n",
    "In this case, the module can track all of its associated parameters, some of which may also be associated with a submodule (e.g. `nn.Linear`), while also defining the `forward()` function, in one place."
   ]
  },
  {
   "cell_type": "code",
   "execution_count": 76,
   "id": "2ea4f248",
   "metadata": {},
   "outputs": [],
   "source": [
    "import torch.nn as nn\n",
    "\n",
    "class MNIST_Logistic_Regression(nn.Module):\n",
    "    def __init__(self):\n",
    "        super().__init__()\n",
    "        self.lin = nn.Linear(784, 10)\n",
    "\n",
    "    def forward(self, x):\n",
    "        return self.lin(x)"
   ]
  },
  {
   "cell_type": "markdown",
   "id": "3a824e5e",
   "metadata": {},
   "source": [
    "In this particular example, we didn't need to chain any operations, but we'll see this come in handy as we move on to more complex models.\n",
    "Additionally, the `nn.Module` that we subclassed has a few other nice features.\n",
    "For example:\n",
    "- The `forward()` function of a `nn.Module` will call the `forward()` function of any child `nn.Module`s.\n",
    "- `print()` will print out a formatted summary of our model, recursively summarizing any child `nn.Module`s as well.\n",
    "- The `parameters()` function will return a generator that returns all parameters of a `nn.Module` (including those of any children)."
   ]
  },
  {
   "cell_type": "code",
   "execution_count": 78,
   "id": "b749423d",
   "metadata": {},
   "outputs": [
    {
     "name": "stdout",
     "output_type": "stream",
     "text": [
      "The model: \n",
      "MNIST_Logistic_Regression(\n",
      "  (lin): Linear(in_features=784, out_features=10, bias=True)\n",
      ")\n",
      "\n",
      "Parameters: \n",
      "[Parameter containing:\n",
      "tensor([[-0.0139,  0.0314, -0.0267,  ...,  0.0180,  0.0041,  0.0131],\n",
      "        [ 0.0039, -0.0321, -0.0139,  ..., -0.0155, -0.0341,  0.0009],\n",
      "        [-0.0093,  0.0309, -0.0115,  ..., -0.0068, -0.0028,  0.0022],\n",
      "        ...,\n",
      "        [-0.0098,  0.0029,  0.0221,  ..., -0.0220, -0.0024, -0.0206],\n",
      "        [-0.0110, -0.0148, -0.0326,  ...,  0.0032,  0.0222, -0.0104],\n",
      "        [ 0.0140, -0.0210,  0.0246,  ..., -0.0115,  0.0342,  0.0122]],\n",
      "       requires_grad=True), Parameter containing:\n",
      "tensor([-0.0322,  0.0013, -0.0100, -0.0171, -0.0155,  0.0053, -0.0251,  0.0022,\n",
      "        -0.0160,  0.0161], requires_grad=True)]\n",
      "\n",
      "Output shape: \n",
      "torch.Size([1, 10])\n"
     ]
    }
   ],
   "source": [
    "model = MNIST_Logistic_Regression()\n",
    "x_rand = torch.randn(1,784)\n",
    "\n",
    "y = model(x_rand)\n",
    "print(\"The model: \\n{}\".format(model))\n",
    "print(\"\\nParameters: \\n{}\".format(list(model.parameters())))\n",
    "print(\"\\nOutput shape: \\n{}\".format(y.shape))"
   ]
  },
  {
   "cell_type": "markdown",
   "id": "bca2db5d",
   "metadata": {},
   "source": [
    "### Full Code (Default)"
   ]
  },
  {
   "cell_type": "code",
   "execution_count": null,
   "id": "e1dbec2a",
   "metadata": {},
   "outputs": [],
   "source": [
    "import numpy as np\n",
    "import torch\n",
    "import torch.nn.functional as F\n",
    "from torchvision import datasets, transforms\n",
    "from tqdm.notebook import tqdm\n",
    "\n",
    "# Load the data\n",
    "mnist_train = datasets.MNIST(root=\"./datasets\", train=True, transform=transforms.ToTensor(), download=True)\n",
    "mnist_test = datasets.MNIST(root=\"./datasets\", train=False, transform=transforms.ToTensor(), download=True)\n",
    "train_loader = torch.utils.data.DataLoader(mnist_train, batch_size=100, shuffle=True)\n",
    "test_loader = torch.utils.data.DataLoader(mnist_test, batch_size=100, shuffle=False)\n",
    "\n",
    "## Training\n",
    "# Initialize parameters\n",
    "W = torch.randn(784, 10)/np.sqrt(784)\n",
    "W.requires_grad_()\n",
    "b = torch.zeros(10, requires_grad=True)\n",
    "\n",
    "# Optimizer\n",
    "optimizer = torch.optim.SGD([W,b], lr=0.1)\n",
    "\n",
    "# Iterate through train set minibatchs \n",
    "for images, labels in tqdm(train_loader):\n",
    "    # Zero out the gradients\n",
    "    optimizer.zero_grad()\n",
    "    \n",
    "    # Forward pass\n",
    "    x = images.view(-1, 28*28)\n",
    "    y = torch.matmul(x, W) + b\n",
    "    cross_entropy = F.cross_entropy(y, labels)\n",
    "    # Backward pass\n",
    "    cross_entropy.backward()\n",
    "    optimizer.step()\n",
    "\n",
    "## Testing\n",
    "correct = 0\n",
    "total = len(mnist_test)\n",
    "\n",
    "with torch.no_grad():\n",
    "    # Iterate through test set minibatchs \n",
    "    for images, labels in tqdm(test_loader):\n",
    "        # Forward pass\n",
    "        x = images.view(-1, 28*28)\n",
    "        y = torch.matmul(x, W) + b\n",
    "        \n",
    "        predictions = torch.argmax(y, dim=1)\n",
    "        correct += torch.sum((predictions == labels).float())\n",
    "    \n",
    "print('Test accuracy: {}'.format(correct/total))"
   ]
  },
  {
   "cell_type": "markdown",
   "id": "cfe5ccfb",
   "metadata": {},
   "source": [
    "### Full Code (with `nn.Module`)"
   ]
  },
  {
   "cell_type": "code",
   "execution_count": 79,
   "id": "95cf7dbb",
   "metadata": {},
   "outputs": [
    {
     "data": {
      "application/vnd.jupyter.widget-view+json": {
       "model_id": "c8b36ef3c38445c39bf7ff3bb389ad95",
       "version_major": 2,
       "version_minor": 0
      },
      "text/plain": [
       "  0%|          | 0/600 [00:00<?, ?it/s]"
      ]
     },
     "metadata": {},
     "output_type": "display_data"
    },
    {
     "data": {
      "application/vnd.jupyter.widget-view+json": {
       "model_id": "412e5bb337f74d708c64b22061634dd5",
       "version_major": 2,
       "version_minor": 0
      },
      "text/plain": [
       "  0%|          | 0/100 [00:00<?, ?it/s]"
      ]
     },
     "metadata": {},
     "output_type": "display_data"
    },
    {
     "name": "stdout",
     "output_type": "stream",
     "text": [
      "Test accuracy: 0.9031000137329102\n"
     ]
    }
   ],
   "source": [
    "import numpy as np\n",
    "import torch\n",
    "import torch.nn as nn\n",
    "import torch.nn.functional as F\n",
    "from torchvision import datasets, transforms\n",
    "from tqdm.notebook import tqdm\n",
    "\n",
    "class MNIST_Logistic_Regression(nn.Module):\n",
    "    def __init__(self):\n",
    "        super().__init__()\n",
    "        self.lin = nn.Linear(784, 10)\n",
    "\n",
    "    def forward(self, x):\n",
    "        return self.lin(x)\n",
    "\n",
    "# Load the data\n",
    "mnist_train = datasets.MNIST(root=\"./datasets\", train=True, transform=transforms.ToTensor(), download=True)\n",
    "mnist_test = datasets.MNIST(root=\"./datasets\", train=False, transform=transforms.ToTensor(), download=True)\n",
    "train_loader = torch.utils.data.DataLoader(mnist_train, batch_size=100, shuffle=True)\n",
    "test_loader = torch.utils.data.DataLoader(mnist_test, batch_size=100, shuffle=False)\n",
    "\n",
    "## Training\n",
    "# Instantiate model\n",
    "model = MNIST_Logistic_Regression()\n",
    "\n",
    "# Loss and Optimizer\n",
    "criterion = nn.CrossEntropyLoss()\n",
    "optimizer = torch.optim.SGD(model.parameters(), lr=0.1)\n",
    "\n",
    "# Iterate through train set minibatchs \n",
    "for images, labels in tqdm(train_loader):\n",
    "    # Zero out the gradients\n",
    "    optimizer.zero_grad()\n",
    "    \n",
    "    # Forward pass\n",
    "    x = images.view(-1, 28*28)\n",
    "    y = model(x)\n",
    "    loss = criterion(y, labels)\n",
    "    # Backward pass\n",
    "    loss.backward()\n",
    "    optimizer.step()\n",
    "\n",
    "## Testing\n",
    "correct = 0\n",
    "total = len(mnist_test)\n",
    "\n",
    "with torch.no_grad():\n",
    "    # Iterate through test set minibatchs \n",
    "    for images, labels in tqdm(test_loader):\n",
    "        # Forward pass\n",
    "        x = images.view(-1, 28*28)\n",
    "        y = model(x)\n",
    "        \n",
    "        predictions = torch.argmax(y, dim=1)\n",
    "        correct += torch.sum((predictions == labels).float())\n",
    "    \n",
    "print('Test accuracy: {}'.format(correct/total))"
   ]
  }
 ],
 "metadata": {
  "kernelspec": {
   "display_name": "Python 3 (ipykernel)",
   "language": "python",
   "name": "python3"
  },
  "language_info": {
   "codemirror_mode": {
    "name": "ipython",
    "version": 3
   },
   "file_extension": ".py",
   "mimetype": "text/x-python",
   "name": "python",
   "nbconvert_exporter": "python",
   "pygments_lexer": "ipython3",
   "version": "3.11.7"
  }
 },
 "nbformat": 4,
 "nbformat_minor": 5
}
